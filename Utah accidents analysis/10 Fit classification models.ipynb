{
 "cells": [
  {
   "cell_type": "code",
   "execution_count": 1,
   "metadata": {},
   "outputs": [],
   "source": [
    "%matplotlib inline\n",
    "%reload_ext autoreload\n",
    "%autoreload 2"
   ]
  },
  {
   "cell_type": "code",
   "execution_count": 1,
   "metadata": {},
   "outputs": [],
   "source": [
    "import fastai\n",
    "from fastai.structured import *\n",
    "from fastai.column_data import *\n",
    "np.set_printoptions(threshold=50, edgeitems=20)\n",
    "import pandas as pd\n",
    "import numpy as np\n",
    "from tqdm import tqdm\n",
    "from random import *\n",
    "\n",
    "pd.set_option('display.height', 1000)\n",
    "pd.set_option('display.max_rows', 500)\n",
    "pd.set_option('display.max_columns', 500)\n",
    "pd.set_option('display.width', 1000)\n",
    "PATH='Utah/'"
   ]
  },
  {
   "cell_type": "code",
   "execution_count": 2,
   "metadata": {},
   "outputs": [],
   "source": [
    "from glob import glob"
   ]
  },
  {
   "cell_type": "code",
   "execution_count": 5,
   "metadata": {},
   "outputs": [],
   "source": [
    "dfs = [pd.read_pickle(file) for file in glob('samples_*.pkl')]"
   ]
  },
  {
   "cell_type": "code",
   "execution_count": 6,
   "metadata": {},
   "outputs": [],
   "source": [
    "samples = pd.DataFrame()"
   ]
  },
  {
   "cell_type": "code",
   "execution_count": 8,
   "metadata": {},
   "outputs": [],
   "source": [
    "samples = samples.append(dfs, ignore_index=True)"
   ]
  },
  {
   "cell_type": "code",
   "execution_count": 9,
   "metadata": {},
   "outputs": [
    {
     "data": {
      "text/plain": [
       "(1370992, 169)"
      ]
     },
     "execution_count": 9,
     "metadata": {},
     "output_type": "execute_result"
    }
   ],
   "source": [
    "samples.shape"
   ]
  },
  {
   "cell_type": "code",
   "execution_count": 10,
   "metadata": {},
   "outputs": [],
   "source": [
    "add_datepart(samples, \"datetime\", drop=False)"
   ]
  },
  {
   "cell_type": "code",
   "execution_count": 11,
   "metadata": {},
   "outputs": [
    {
     "data": {
      "text/plain": [
       "1370992"
      ]
     },
     "execution_count": 11,
     "metadata": {},
     "output_type": "execute_result"
    }
   ],
   "source": [
    "cat_vars = ['FC_NAME', 'REGION', 'ROADWAYJUNCTFEATUREID', 'ROADWAYTYPECD', \n",
    "            'ROUTEDIRECTION', 'RouteName','SAF_INDEX',\n",
    "            'State_FA', 'Station ID_x', 'hour_x', 'year_x','wind_cardinal_direction_set_1d',\n",
    "             'datetimeMonth',\n",
    "             'datetimeWeek',\n",
    "             'datetimeDay',\n",
    "             'datetimeDayofweek',\n",
    "             'datetimeDayofyear',\n",
    "\n",
    "             'datetimeIs_month_end',\n",
    "             'datetimeIs_month_start',\n",
    "             'datetimeIs_quarter_end',\n",
    "             'datetimeIs_quarter_start',\n",
    "             'datetimeIs_year_end',\n",
    "             'datetimeIs_year_start']\n",
    "\n",
    "contin_vars = ['AVG_AADT', 'AvE_CRT', 'AvE_SEV_CR', 'EXP_CRT', 'EXP_SEV_CR',\n",
    "   'SEV_CRT', 'SEV_C_MI', 'TOT_C', 'TOT_SEV_C', \n",
    "   'wind_gust_set_1', 'wind_direction_set_1', 'relative_humidity_set_1', \n",
    "   'dew_point_temperature_set_1d', 'wind_speed_set_1', 'air_temp_set_1']\n",
    "\n",
    "n = len(samples); n"
   ]
  },
  {
   "cell_type": "code",
   "execution_count": 12,
   "metadata": {},
   "outputs": [],
   "source": [
    "train = samples.sample(frac=0.75,random_state=200)\n",
    "test  = samples.drop(train.index)"
   ]
  },
  {
   "cell_type": "code",
   "execution_count": 13,
   "metadata": {},
   "outputs": [],
   "source": [
    "dep = 'class' #target class = 0 for no accident, 1 for accident\n",
    "train = train[cat_vars+contin_vars+[dep]].copy() \n",
    "test = test[cat_vars+contin_vars+[dep]].copy()"
   ]
  },
  {
   "cell_type": "markdown",
   "metadata": {},
   "source": [
    "### Data Preparation (Create Dummies, Normalize...)"
   ]
  },
  {
   "cell_type": "code",
   "execution_count": 48,
   "metadata": {},
   "outputs": [
    {
     "data": {
      "text/html": [
       "<div>\n",
       "<style scoped>\n",
       "    .dataframe tbody tr th:only-of-type {\n",
       "        vertical-align: middle;\n",
       "    }\n",
       "\n",
       "    .dataframe tbody tr th {\n",
       "        vertical-align: top;\n",
       "    }\n",
       "\n",
       "    .dataframe thead th {\n",
       "        text-align: right;\n",
       "    }\n",
       "</style>\n",
       "<table border=\"1\" class=\"dataframe\">\n",
       "  <thead>\n",
       "    <tr style=\"text-align: right;\">\n",
       "      <th></th>\n",
       "      <th>FC_NAME</th>\n",
       "      <th>REGION</th>\n",
       "      <th>ROADWAYJUNCTFEATUREID</th>\n",
       "      <th>ROADWAYTYPECD</th>\n",
       "      <th>ROUTEDIRECTION</th>\n",
       "      <th>RouteName</th>\n",
       "      <th>SAF_INDEX</th>\n",
       "      <th>State_FA</th>\n",
       "      <th>Station ID_x</th>\n",
       "      <th>hour_x</th>\n",
       "      <th>year_x</th>\n",
       "      <th>wind_cardinal_direction_set_1d</th>\n",
       "      <th>datetimeMonth</th>\n",
       "      <th>datetimeWeek</th>\n",
       "      <th>datetimeDay</th>\n",
       "      <th>datetimeDayofweek</th>\n",
       "      <th>datetimeDayofyear</th>\n",
       "      <th>datetimeIs_month_end</th>\n",
       "      <th>datetimeIs_month_start</th>\n",
       "      <th>datetimeIs_quarter_end</th>\n",
       "      <th>datetimeIs_quarter_start</th>\n",
       "      <th>datetimeIs_year_end</th>\n",
       "      <th>datetimeIs_year_start</th>\n",
       "      <th>AVG_AADT</th>\n",
       "      <th>AvE_CRT</th>\n",
       "      <th>AvE_SEV_CR</th>\n",
       "      <th>EXP_CRT</th>\n",
       "      <th>EXP_SEV_CR</th>\n",
       "      <th>SEV_CRT</th>\n",
       "      <th>SEV_C_MI</th>\n",
       "      <th>TOT_C</th>\n",
       "      <th>TOT_SEV_C</th>\n",
       "      <th>wind_gust_set_1</th>\n",
       "      <th>wind_direction_set_1</th>\n",
       "      <th>relative_humidity_set_1</th>\n",
       "      <th>dew_point_temperature_set_1d</th>\n",
       "      <th>wind_speed_set_1</th>\n",
       "      <th>air_temp_set_1</th>\n",
       "      <th>class</th>\n",
       "    </tr>\n",
       "  </thead>\n",
       "  <tbody>\n",
       "    <tr>\n",
       "      <th>958041</th>\n",
       "      <td>Urban Principal Arterial</td>\n",
       "      <td>1</td>\n",
       "      <td>No Special Feature/Junction</td>\n",
       "      <td>Mainline</td>\n",
       "      <td>P</td>\n",
       "      <td>0108P</td>\n",
       "      <td>4</td>\n",
       "      <td>State</td>\n",
       "      <td>KOGD</td>\n",
       "      <td>19</td>\n",
       "      <td>2015</td>\n",
       "      <td>NaN</td>\n",
       "      <td>2.0</td>\n",
       "      <td>8.0</td>\n",
       "      <td>17.0</td>\n",
       "      <td>1.0</td>\n",
       "      <td>48.0</td>\n",
       "      <td>False</td>\n",
       "      <td>False</td>\n",
       "      <td>False</td>\n",
       "      <td>False</td>\n",
       "      <td>False</td>\n",
       "      <td>False</td>\n",
       "      <td>13365.0</td>\n",
       "      <td>1.909336</td>\n",
       "      <td>0.0</td>\n",
       "      <td>2.74</td>\n",
       "      <td>6.8</td>\n",
       "      <td>0.0</td>\n",
       "      <td>0.0</td>\n",
       "      <td>49.0</td>\n",
       "      <td>0.0</td>\n",
       "      <td>NaN</td>\n",
       "      <td>NaN</td>\n",
       "      <td>34.330002</td>\n",
       "      <td>-9.04</td>\n",
       "      <td>2.06</td>\n",
       "      <td>5.6</td>\n",
       "      <td>0</td>\n",
       "    </tr>\n",
       "    <tr>\n",
       "      <th>903491</th>\n",
       "      <td>Urban Minor Arterial</td>\n",
       "      <td>3</td>\n",
       "      <td>No Special Feature/Junction</td>\n",
       "      <td>Mainline</td>\n",
       "      <td>P</td>\n",
       "      <td>2881P</td>\n",
       "      <td>1</td>\n",
       "      <td>FA</td>\n",
       "      <td>C6171</td>\n",
       "      <td>8</td>\n",
       "      <td>2015</td>\n",
       "      <td>NaN</td>\n",
       "      <td>11.0</td>\n",
       "      <td>48.0</td>\n",
       "      <td>28.0</td>\n",
       "      <td>5.0</td>\n",
       "      <td>332.0</td>\n",
       "      <td>False</td>\n",
       "      <td>False</td>\n",
       "      <td>False</td>\n",
       "      <td>False</td>\n",
       "      <td>False</td>\n",
       "      <td>False</td>\n",
       "      <td>16340.0</td>\n",
       "      <td>0.092404</td>\n",
       "      <td>0.0</td>\n",
       "      <td>3.40</td>\n",
       "      <td>8.6</td>\n",
       "      <td>0.0</td>\n",
       "      <td>0.0</td>\n",
       "      <td>19.0</td>\n",
       "      <td>0.0</td>\n",
       "      <td>2.68</td>\n",
       "      <td>NaN</td>\n",
       "      <td>66.000000</td>\n",
       "      <td>-10.44</td>\n",
       "      <td>0.00</td>\n",
       "      <td>-5.0</td>\n",
       "      <td>1</td>\n",
       "    </tr>\n",
       "  </tbody>\n",
       "</table>\n",
       "</div>"
      ],
      "text/plain": [
       "                         FC_NAME REGION        ROADWAYJUNCTFEATUREID ROADWAYTYPECD ROUTEDIRECTION RouteName SAF_INDEX State_FA Station ID_x hour_x year_x wind_cardinal_direction_set_1d datetimeMonth datetimeWeek datetimeDay datetimeDayofweek datetimeDayofyear datetimeIs_month_end datetimeIs_month_start datetimeIs_quarter_end datetimeIs_quarter_start datetimeIs_year_end datetimeIs_year_start  AVG_AADT   AvE_CRT  AvE_SEV_CR  EXP_CRT  EXP_SEV_CR  SEV_CRT  SEV_C_MI  TOT_C  TOT_SEV_C  wind_gust_set_1  wind_direction_set_1  relative_humidity_set_1  dew_point_temperature_set_1d  wind_speed_set_1  air_temp_set_1  class\n",
       "958041  Urban Principal Arterial      1  No Special Feature/Junction      Mainline              P     0108P         4    State         KOGD     19   2015                            NaN           2.0          8.0        17.0               1.0              48.0                False                  False                  False                    False               False                 False   13365.0  1.909336         0.0     2.74         6.8      0.0       0.0   49.0        0.0              NaN                   NaN                34.330002                         -9.04              2.06             5.6      0\n",
       "903491      Urban Minor Arterial      3  No Special Feature/Junction      Mainline              P     2881P         1       FA        C6171      8   2015                            NaN          11.0         48.0        28.0               5.0             332.0                False                  False                  False                    False               False                 False   16340.0  0.092404         0.0     3.40         8.6      0.0       0.0   19.0        0.0             2.68                   NaN                66.000000                        -10.44              0.00            -5.0      1"
      ]
     },
     "execution_count": 48,
     "metadata": {},
     "output_type": "execute_result"
    }
   ],
   "source": [
    "train.head(2)"
   ]
  },
  {
   "cell_type": "code",
   "execution_count": 14,
   "metadata": {},
   "outputs": [],
   "source": [
    "for v in cat_vars:\n",
    "    train[v] = train[v].astype('category').cat.as_ordered()"
   ]
  },
  {
   "cell_type": "code",
   "execution_count": 15,
   "metadata": {},
   "outputs": [],
   "source": [
    "apply_cats(test, train)"
   ]
  },
  {
   "cell_type": "code",
   "execution_count": 16,
   "metadata": {},
   "outputs": [],
   "source": [
    "for v in contin_vars:\n",
    "    train[v] = train[v].astype('float32')\n",
    "    test[v]  = test[v].astype('float32')"
   ]
  },
  {
   "cell_type": "code",
   "execution_count": 17,
   "metadata": {},
   "outputs": [],
   "source": [
    "samp_size = n\n",
    "joined_samp = train"
   ]
  },
  {
   "cell_type": "code",
   "execution_count": 18,
   "metadata": {},
   "outputs": [
    {
     "data": {
      "text/html": [
       "<div>\n",
       "<style scoped>\n",
       "    .dataframe tbody tr th:only-of-type {\n",
       "        vertical-align: middle;\n",
       "    }\n",
       "\n",
       "    .dataframe tbody tr th {\n",
       "        vertical-align: top;\n",
       "    }\n",
       "\n",
       "    .dataframe thead th {\n",
       "        text-align: right;\n",
       "    }\n",
       "</style>\n",
       "<table border=\"1\" class=\"dataframe\">\n",
       "  <thead>\n",
       "    <tr style=\"text-align: right;\">\n",
       "      <th></th>\n",
       "      <th>FC_NAME</th>\n",
       "      <th>REGION</th>\n",
       "      <th>ROADWAYJUNCTFEATUREID</th>\n",
       "      <th>ROADWAYTYPECD</th>\n",
       "      <th>ROUTEDIRECTION</th>\n",
       "      <th>RouteName</th>\n",
       "      <th>SAF_INDEX</th>\n",
       "      <th>State_FA</th>\n",
       "      <th>Station ID_x</th>\n",
       "      <th>hour_x</th>\n",
       "      <th>year_x</th>\n",
       "      <th>wind_cardinal_direction_set_1d</th>\n",
       "      <th>datetimeMonth</th>\n",
       "      <th>datetimeWeek</th>\n",
       "      <th>datetimeDay</th>\n",
       "      <th>datetimeDayofweek</th>\n",
       "      <th>datetimeDayofyear</th>\n",
       "      <th>datetimeIs_month_end</th>\n",
       "      <th>datetimeIs_month_start</th>\n",
       "      <th>datetimeIs_quarter_end</th>\n",
       "      <th>datetimeIs_quarter_start</th>\n",
       "      <th>datetimeIs_year_end</th>\n",
       "      <th>datetimeIs_year_start</th>\n",
       "      <th>AVG_AADT</th>\n",
       "      <th>AvE_CRT</th>\n",
       "      <th>AvE_SEV_CR</th>\n",
       "      <th>EXP_CRT</th>\n",
       "      <th>EXP_SEV_CR</th>\n",
       "      <th>SEV_CRT</th>\n",
       "      <th>SEV_C_MI</th>\n",
       "      <th>TOT_C</th>\n",
       "      <th>TOT_SEV_C</th>\n",
       "      <th>wind_gust_set_1</th>\n",
       "      <th>wind_direction_set_1</th>\n",
       "      <th>relative_humidity_set_1</th>\n",
       "      <th>dew_point_temperature_set_1d</th>\n",
       "      <th>wind_speed_set_1</th>\n",
       "      <th>air_temp_set_1</th>\n",
       "      <th>class</th>\n",
       "    </tr>\n",
       "  </thead>\n",
       "  <tbody>\n",
       "    <tr>\n",
       "      <th>958041</th>\n",
       "      <td>Urban Principal Arterial</td>\n",
       "      <td>1</td>\n",
       "      <td>No Special Feature/Junction</td>\n",
       "      <td>Mainline</td>\n",
       "      <td>P</td>\n",
       "      <td>0108P</td>\n",
       "      <td>4</td>\n",
       "      <td>State</td>\n",
       "      <td>KOGD</td>\n",
       "      <td>19</td>\n",
       "      <td>2015</td>\n",
       "      <td>NaN</td>\n",
       "      <td>2.0</td>\n",
       "      <td>8.0</td>\n",
       "      <td>17.0</td>\n",
       "      <td>1.0</td>\n",
       "      <td>48.0</td>\n",
       "      <td>False</td>\n",
       "      <td>False</td>\n",
       "      <td>False</td>\n",
       "      <td>False</td>\n",
       "      <td>False</td>\n",
       "      <td>False</td>\n",
       "      <td>13365.0</td>\n",
       "      <td>1.909336</td>\n",
       "      <td>0.0</td>\n",
       "      <td>2.74</td>\n",
       "      <td>6.8</td>\n",
       "      <td>0.0</td>\n",
       "      <td>0.0</td>\n",
       "      <td>49.0</td>\n",
       "      <td>0.0</td>\n",
       "      <td>NaN</td>\n",
       "      <td>NaN</td>\n",
       "      <td>34.330002</td>\n",
       "      <td>-9.04</td>\n",
       "      <td>2.06</td>\n",
       "      <td>5.6</td>\n",
       "      <td>0</td>\n",
       "    </tr>\n",
       "    <tr>\n",
       "      <th>903491</th>\n",
       "      <td>Urban Minor Arterial</td>\n",
       "      <td>3</td>\n",
       "      <td>No Special Feature/Junction</td>\n",
       "      <td>Mainline</td>\n",
       "      <td>P</td>\n",
       "      <td>2881P</td>\n",
       "      <td>1</td>\n",
       "      <td>FA</td>\n",
       "      <td>C6171</td>\n",
       "      <td>8</td>\n",
       "      <td>2015</td>\n",
       "      <td>NaN</td>\n",
       "      <td>11.0</td>\n",
       "      <td>48.0</td>\n",
       "      <td>28.0</td>\n",
       "      <td>5.0</td>\n",
       "      <td>332.0</td>\n",
       "      <td>False</td>\n",
       "      <td>False</td>\n",
       "      <td>False</td>\n",
       "      <td>False</td>\n",
       "      <td>False</td>\n",
       "      <td>False</td>\n",
       "      <td>16340.0</td>\n",
       "      <td>0.092404</td>\n",
       "      <td>0.0</td>\n",
       "      <td>3.40</td>\n",
       "      <td>8.6</td>\n",
       "      <td>0.0</td>\n",
       "      <td>0.0</td>\n",
       "      <td>19.0</td>\n",
       "      <td>0.0</td>\n",
       "      <td>2.68</td>\n",
       "      <td>NaN</td>\n",
       "      <td>66.000000</td>\n",
       "      <td>-10.44</td>\n",
       "      <td>0.00</td>\n",
       "      <td>-5.0</td>\n",
       "      <td>1</td>\n",
       "    </tr>\n",
       "  </tbody>\n",
       "</table>\n",
       "</div>"
      ],
      "text/plain": [
       "                         FC_NAME REGION        ROADWAYJUNCTFEATUREID ROADWAYTYPECD ROUTEDIRECTION RouteName SAF_INDEX State_FA Station ID_x hour_x year_x wind_cardinal_direction_set_1d datetimeMonth datetimeWeek datetimeDay datetimeDayofweek datetimeDayofyear datetimeIs_month_end datetimeIs_month_start datetimeIs_quarter_end datetimeIs_quarter_start datetimeIs_year_end datetimeIs_year_start  AVG_AADT   AvE_CRT  AvE_SEV_CR  EXP_CRT  EXP_SEV_CR  SEV_CRT  SEV_C_MI  TOT_C  TOT_SEV_C  wind_gust_set_1  wind_direction_set_1  relative_humidity_set_1  dew_point_temperature_set_1d  wind_speed_set_1  air_temp_set_1  class\n",
       "958041  Urban Principal Arterial      1  No Special Feature/Junction      Mainline              P     0108P         4    State         KOGD     19   2015                            NaN           2.0          8.0        17.0               1.0              48.0                False                  False                  False                    False               False                 False   13365.0  1.909336         0.0     2.74         6.8      0.0       0.0   49.0        0.0              NaN                   NaN                34.330002                         -9.04              2.06             5.6      0\n",
       "903491      Urban Minor Arterial      3  No Special Feature/Junction      Mainline              P     2881P         1       FA        C6171      8   2015                            NaN          11.0         48.0        28.0               5.0             332.0                False                  False                  False                    False               False                 False   16340.0  0.092404         0.0     3.40         8.6      0.0       0.0   19.0        0.0             2.68                   NaN                66.000000                        -10.44              0.00            -5.0      1"
      ]
     },
     "execution_count": 18,
     "metadata": {},
     "output_type": "execute_result"
    }
   ],
   "source": [
    "joined_samp.head(2)"
   ]
  },
  {
   "cell_type": "code",
   "execution_count": 19,
   "metadata": {},
   "outputs": [],
   "source": [
    "df, y, nas, mapper = proc_df(joined_samp, 'class', do_scale=True)"
   ]
  },
  {
   "cell_type": "code",
   "execution_count": 20,
   "metadata": {},
   "outputs": [],
   "source": [
    "df_test, y_test, nas, mapper = proc_df(test, 'class', do_scale=True, \n",
    "                                  mapper=mapper, na_dict=nas)"
   ]
  },
  {
   "cell_type": "code",
   "execution_count": 21,
   "metadata": {},
   "outputs": [
    {
     "data": {
      "text/plain": [
       "((1028244, 44), (342748, 44))"
      ]
     },
     "execution_count": 21,
     "metadata": {},
     "output_type": "execute_result"
    }
   ],
   "source": [
    "df.shape, df_test.shape"
   ]
  },
  {
   "cell_type": "code",
   "execution_count": 22,
   "metadata": {},
   "outputs": [
    {
     "data": {
      "text/html": [
       "<div>\n",
       "<style scoped>\n",
       "    .dataframe tbody tr th:only-of-type {\n",
       "        vertical-align: middle;\n",
       "    }\n",
       "\n",
       "    .dataframe tbody tr th {\n",
       "        vertical-align: top;\n",
       "    }\n",
       "\n",
       "    .dataframe thead th {\n",
       "        text-align: right;\n",
       "    }\n",
       "</style>\n",
       "<table border=\"1\" class=\"dataframe\">\n",
       "  <thead>\n",
       "    <tr style=\"text-align: right;\">\n",
       "      <th></th>\n",
       "      <th>FC_NAME</th>\n",
       "      <th>REGION</th>\n",
       "      <th>ROADWAYJUNCTFEATUREID</th>\n",
       "      <th>ROADWAYTYPECD</th>\n",
       "      <th>ROUTEDIRECTION</th>\n",
       "      <th>RouteName</th>\n",
       "      <th>SAF_INDEX</th>\n",
       "      <th>State_FA</th>\n",
       "      <th>Station ID_x</th>\n",
       "      <th>hour_x</th>\n",
       "      <th>year_x</th>\n",
       "      <th>wind_cardinal_direction_set_1d</th>\n",
       "      <th>datetimeMonth</th>\n",
       "      <th>datetimeWeek</th>\n",
       "      <th>datetimeDay</th>\n",
       "      <th>datetimeDayofweek</th>\n",
       "      <th>datetimeDayofyear</th>\n",
       "      <th>datetimeIs_month_end</th>\n",
       "      <th>datetimeIs_month_start</th>\n",
       "      <th>datetimeIs_quarter_end</th>\n",
       "      <th>datetimeIs_quarter_start</th>\n",
       "      <th>datetimeIs_year_end</th>\n",
       "      <th>datetimeIs_year_start</th>\n",
       "      <th>AVG_AADT</th>\n",
       "      <th>AvE_CRT</th>\n",
       "      <th>AvE_SEV_CR</th>\n",
       "      <th>EXP_CRT</th>\n",
       "      <th>EXP_SEV_CR</th>\n",
       "      <th>SEV_CRT</th>\n",
       "      <th>SEV_C_MI</th>\n",
       "      <th>TOT_C</th>\n",
       "      <th>TOT_SEV_C</th>\n",
       "      <th>wind_gust_set_1</th>\n",
       "      <th>wind_direction_set_1</th>\n",
       "      <th>relative_humidity_set_1</th>\n",
       "      <th>dew_point_temperature_set_1d</th>\n",
       "      <th>wind_speed_set_1</th>\n",
       "      <th>air_temp_set_1</th>\n",
       "      <th>wind_gust_set_1_na</th>\n",
       "      <th>wind_direction_set_1_na</th>\n",
       "      <th>relative_humidity_set_1_na</th>\n",
       "      <th>dew_point_temperature_set_1d_na</th>\n",
       "      <th>wind_speed_set_1_na</th>\n",
       "      <th>air_temp_set_1_na</th>\n",
       "    </tr>\n",
       "  </thead>\n",
       "  <tbody>\n",
       "    <tr>\n",
       "      <th>958041</th>\n",
       "      <td>12</td>\n",
       "      <td>1</td>\n",
       "      <td>9</td>\n",
       "      <td>2</td>\n",
       "      <td>2</td>\n",
       "      <td>102</td>\n",
       "      <td>5</td>\n",
       "      <td>2</td>\n",
       "      <td>177</td>\n",
       "      <td>20</td>\n",
       "      <td>6</td>\n",
       "      <td>0</td>\n",
       "      <td>2</td>\n",
       "      <td>8</td>\n",
       "      <td>17</td>\n",
       "      <td>2</td>\n",
       "      <td>48</td>\n",
       "      <td>1</td>\n",
       "      <td>1</td>\n",
       "      <td>1</td>\n",
       "      <td>1</td>\n",
       "      <td>1</td>\n",
       "      <td>1</td>\n",
       "      <td>-0.492793</td>\n",
       "      <td>0.678869</td>\n",
       "      <td>-0.793926</td>\n",
       "      <td>0.090743</td>\n",
       "      <td>0.108338</td>\n",
       "      <td>-0.695297</td>\n",
       "      <td>-0.854624</td>\n",
       "      <td>-0.548472</td>\n",
       "      <td>-0.935319</td>\n",
       "      <td>-0.206485</td>\n",
       "      <td>-0.027014</td>\n",
       "      <td>-0.950992</td>\n",
       "      <td>-0.572637</td>\n",
       "      <td>-0.032235</td>\n",
       "      <td>-0.450130</td>\n",
       "      <td>1.141999</td>\n",
       "      <td>1.727705</td>\n",
       "      <td>-0.592152</td>\n",
       "      <td>-0.593265</td>\n",
       "      <td>-0.466603</td>\n",
       "      <td>-0.417499</td>\n",
       "    </tr>\n",
       "    <tr>\n",
       "      <th>903491</th>\n",
       "      <td>10</td>\n",
       "      <td>3</td>\n",
       "      <td>9</td>\n",
       "      <td>2</td>\n",
       "      <td>2</td>\n",
       "      <td>706</td>\n",
       "      <td>2</td>\n",
       "      <td>1</td>\n",
       "      <td>46</td>\n",
       "      <td>9</td>\n",
       "      <td>6</td>\n",
       "      <td>0</td>\n",
       "      <td>11</td>\n",
       "      <td>48</td>\n",
       "      <td>28</td>\n",
       "      <td>6</td>\n",
       "      <td>332</td>\n",
       "      <td>1</td>\n",
       "      <td>1</td>\n",
       "      <td>1</td>\n",
       "      <td>1</td>\n",
       "      <td>1</td>\n",
       "      <td>1</td>\n",
       "      <td>-0.430656</td>\n",
       "      <td>-1.243416</td>\n",
       "      <td>-0.793926</td>\n",
       "      <td>0.677040</td>\n",
       "      <td>0.778433</td>\n",
       "      <td>-0.695297</td>\n",
       "      <td>-0.854624</td>\n",
       "      <td>-0.744161</td>\n",
       "      <td>-0.935319</td>\n",
       "      <td>-0.376757</td>\n",
       "      <td>-0.027014</td>\n",
       "      <td>0.558271</td>\n",
       "      <td>-0.665326</td>\n",
       "      <td>-0.999820</td>\n",
       "      <td>-1.458302</td>\n",
       "      <td>-0.875657</td>\n",
       "      <td>1.727705</td>\n",
       "      <td>-0.592152</td>\n",
       "      <td>-0.593265</td>\n",
       "      <td>-0.466603</td>\n",
       "      <td>-0.417499</td>\n",
       "    </tr>\n",
       "  </tbody>\n",
       "</table>\n",
       "</div>"
      ],
      "text/plain": [
       "        FC_NAME  REGION  ROADWAYJUNCTFEATUREID  ROADWAYTYPECD  ROUTEDIRECTION  RouteName  SAF_INDEX  State_FA  Station ID_x  hour_x  year_x  wind_cardinal_direction_set_1d  datetimeMonth  datetimeWeek  datetimeDay  datetimeDayofweek  datetimeDayofyear  datetimeIs_month_end  datetimeIs_month_start  datetimeIs_quarter_end  datetimeIs_quarter_start  datetimeIs_year_end  datetimeIs_year_start  AVG_AADT   AvE_CRT  AvE_SEV_CR   EXP_CRT  EXP_SEV_CR   SEV_CRT  SEV_C_MI     TOT_C  TOT_SEV_C  wind_gust_set_1  wind_direction_set_1  relative_humidity_set_1  dew_point_temperature_set_1d  wind_speed_set_1  air_temp_set_1  wind_gust_set_1_na  wind_direction_set_1_na  relative_humidity_set_1_na  dew_point_temperature_set_1d_na  wind_speed_set_1_na  air_temp_set_1_na\n",
       "958041       12       1                      9              2               2        102          5         2           177      20       6                               0              2             8           17                  2                 48                     1                       1                       1                         1                    1                      1 -0.492793  0.678869   -0.793926  0.090743    0.108338 -0.695297 -0.854624 -0.548472  -0.935319        -0.206485             -0.027014                -0.950992                     -0.572637         -0.032235       -0.450130            1.141999                 1.727705                   -0.592152                        -0.593265            -0.466603          -0.417499\n",
       "903491       10       3                      9              2               2        706          2         1            46       9       6                               0             11            48           28                  6                332                     1                       1                       1                         1                    1                      1 -0.430656 -1.243416   -0.793926  0.677040    0.778433 -0.695297 -0.854624 -0.744161  -0.935319        -0.376757             -0.027014                 0.558271                     -0.665326         -0.999820       -1.458302           -0.875657                 1.727705                   -0.592152                        -0.593265            -0.466603          -0.417499"
      ]
     },
     "execution_count": 22,
     "metadata": {},
     "output_type": "execute_result"
    }
   ],
   "source": [
    "df.head(2)"
   ]
  },
  {
   "cell_type": "code",
   "execution_count": 23,
   "metadata": {},
   "outputs": [
    {
     "name": "stdout",
     "output_type": "stream",
     "text": [
      "822595\n"
     ]
    }
   ],
   "source": [
    "train_ratio = 0.60\n",
    "# train_ratio = 0.9\n",
    "train_size = int(samp_size * train_ratio); \n",
    "print(train_size)\n",
    "val_idx = list(range(train_size, len(df)))"
   ]
  },
  {
   "cell_type": "code",
   "execution_count": 24,
   "metadata": {},
   "outputs": [
    {
     "data": {
      "text/plain": [
       "205649"
      ]
     },
     "execution_count": 24,
     "metadata": {},
     "output_type": "execute_result"
    }
   ],
   "source": [
    "len(val_idx)"
   ]
  },
  {
   "cell_type": "code",
   "execution_count": 25,
   "metadata": {},
   "outputs": [
    {
     "data": {
      "text/plain": [
       "(1028244, 1028244)"
      ]
     },
     "execution_count": 25,
     "metadata": {},
     "output_type": "execute_result"
    }
   ],
   "source": [
    "len(df), len(y)"
   ]
  },
  {
   "cell_type": "code",
   "execution_count": 26,
   "metadata": {},
   "outputs": [
    {
     "data": {
      "text/plain": [
       "(342748, 342748)"
      ]
     },
     "execution_count": 26,
     "metadata": {},
     "output_type": "execute_result"
    }
   ],
   "source": [
    "len(df_test), len(y_test)"
   ]
  },
  {
   "cell_type": "markdown",
   "metadata": {},
   "source": [
    "### DNN Classifier"
   ]
  },
  {
   "cell_type": "code",
   "execution_count": 27,
   "metadata": {},
   "outputs": [],
   "source": [
    "md = ColumnarModelData.from_data_frame(PATH, val_idx, df, y, cat_flds=cat_vars, \n",
    "                                       bs=128, test_df=df_test)"
   ]
  },
  {
   "cell_type": "code",
   "execution_count": 28,
   "metadata": {},
   "outputs": [
    {
     "data": {
      "text/plain": [
       "[('FC_NAME', 13),\n",
       " ('REGION', 5),\n",
       " ('ROADWAYJUNCTFEATUREID', 21),\n",
       " ('ROADWAYTYPECD', 3),\n",
       " ('ROUTEDIRECTION', 3),\n",
       " ('RouteName', 885),\n",
       " ('SAF_INDEX', 12),\n",
       " ('State_FA', 3),\n",
       " ('Station ID_x', 376),\n",
       " ('hour_x', 26),\n",
       " ('year_x', 9),\n",
       " ('wind_cardinal_direction_set_1d', 17),\n",
       " ('datetimeMonth', 13),\n",
       " ('datetimeWeek', 54),\n",
       " ('datetimeDay', 32),\n",
       " ('datetimeDayofweek', 8),\n",
       " ('datetimeDayofyear', 367),\n",
       " ('datetimeIs_month_end', 3),\n",
       " ('datetimeIs_month_start', 3),\n",
       " ('datetimeIs_quarter_end', 3),\n",
       " ('datetimeIs_quarter_start', 3),\n",
       " ('datetimeIs_year_end', 3),\n",
       " ('datetimeIs_year_start', 3)]"
      ]
     },
     "execution_count": 28,
     "metadata": {},
     "output_type": "execute_result"
    }
   ],
   "source": [
    "cat_sz = [(c, len(joined_samp[c].cat.categories)+1) for c in cat_vars]\n",
    "cat_sz"
   ]
  },
  {
   "cell_type": "code",
   "execution_count": 29,
   "metadata": {},
   "outputs": [
    {
     "data": {
      "text/plain": [
       "[(13, 7),\n",
       " (5, 3),\n",
       " (21, 11),\n",
       " (3, 2),\n",
       " (3, 2),\n",
       " (885, 50),\n",
       " (12, 6),\n",
       " (3, 2),\n",
       " (376, 50),\n",
       " (26, 13),\n",
       " (9, 5),\n",
       " (17, 9),\n",
       " (13, 7),\n",
       " (54, 27),\n",
       " (32, 16),\n",
       " (8, 4),\n",
       " (367, 50),\n",
       " (3, 2),\n",
       " (3, 2),\n",
       " (3, 2),\n",
       " (3, 2),\n",
       " (3, 2),\n",
       " (3, 2)]"
      ]
     },
     "execution_count": 29,
     "metadata": {},
     "output_type": "execute_result"
    }
   ],
   "source": [
    "emb_szs = [(c, min(50, (c+1)//2)) for _,c in cat_sz]\n",
    "emb_szs"
   ]
  },
  {
   "cell_type": "code",
   "execution_count": 30,
   "metadata": {},
   "outputs": [],
   "source": [
    "m = md.get_learner(emb_szs, len(df.columns)-len(cat_vars),\n",
    "                   0.04, 1, [1000,500], [0.001,0.01]) #, y_range=y_range)\n",
    "lr = 1e-3"
   ]
  },
  {
   "cell_type": "code",
   "execution_count": 31,
   "metadata": {},
   "outputs": [
    {
     "data": {
      "application/vnd.jupyter.widget-view+json": {
       "model_id": "720b3a3be1494031987ce7a1f0c4e10a"
      }
     },
     "metadata": {},
     "output_type": "display_data"
    },
    {
     "name": "stdout",
     "output_type": "stream",
     "text": [
      " 56%|█████▌    | 3614/6427 [00:43<00:33, 83.33it/s, loss=22.4] "
     ]
    }
   ],
   "source": [
    "m.lr_find()"
   ]
  },
  {
   "cell_type": "code",
   "execution_count": 32,
   "metadata": {},
   "outputs": [
    {
     "data": {
      "image/png": "[encoded data removed]",
      "text/plain": [
       "<matplotlib.figure.Figure at 0x7f85951e6780>"
      ]
     },
     "metadata": {},
     "output_type": "display_data"
    },
    {
     "name": "stdout",
     "output_type": "stream",
     "text": [
      "\r",
      " 56%|█████▌    | 3614/6427 [01:00<00:46, 60.17it/s, loss=22.4]"
     ]
    }
   ],
   "source": [
    "m.sched.plot(100)"
   ]
  },
  {
   "cell_type": "code",
   "execution_count": 33,
   "metadata": {},
   "outputs": [],
   "source": [
    "m = md.get_learner(emb_szs, len(df.columns)-len(cat_vars),\n",
    "                   0.04, 1, [1000,500], [0.001,0.01]) #, y_range=y_range)\n",
    "lr = 5e-4"
   ]
  },
  {
   "cell_type": "code",
   "execution_count": null,
   "metadata": {},
   "outputs": [],
   "source": [
    "m.fit(lr, 1, metrics=[accuracy])"
   ]
  },
  {
   "cell_type": "code",
   "execution_count": 35,
   "metadata": {},
   "outputs": [
    {
     "data": {
      "application/vnd.jupyter.widget-view+json": {
       "model_id": "0e0ae4793ae64cd58355508cea9d88c3"
      }
     },
     "metadata": {},
     "output_type": "display_data"
    },
    {
     "name": "stdout",
     "output_type": "stream",
     "text": [
      "[0.      0.18258 0.18174 0.75038]                              \n",
      "[1.      0.17846 0.18162 0.75038]                              \n",
      "[2.      0.18211 0.18171 0.75038]                              \n",
      "\n"
     ]
    }
   ],
   "source": [
    "m.fit(lr, 3, metrics=[accuracy])"
   ]
  },
  {
   "cell_type": "code",
   "execution_count": 36,
   "metadata": {},
   "outputs": [
    {
     "data": {
      "application/vnd.jupyter.widget-view+json": {
       "model_id": "3cba1f38ad474cba9c258e90ec918e9f"
      }
     },
     "metadata": {},
     "output_type": "display_data"
    },
    {
     "name": "stdout",
     "output_type": "stream",
     "text": [
      "[0.      0.17974 0.18186 0.75038]                              \n",
      "[1.      0.18099 0.18217 0.75038]                              \n",
      "[2.      0.18128 0.18244 0.75038]                              \n",
      "\n"
     ]
    }
   ],
   "source": [
    "m.fit(lr, 3, metrics=[accuracy], cycle_len=1)"
   ]
  },
  {
   "cell_type": "code",
   "execution_count": 37,
   "metadata": {},
   "outputs": [],
   "source": [
    "xy,yy = m.predict_with_targs()"
   ]
  },
  {
   "cell_type": "code",
   "execution_count": 40,
   "metadata": {},
   "outputs": [
    {
     "data": {
      "text/plain": [
       "0.7504291292444893"
      ]
     },
     "execution_count": 40,
     "metadata": {},
     "output_type": "execute_result"
    }
   ],
   "source": [
    "accuracy(xy,yy)"
   ]
  },
  {
   "cell_type": "code",
   "execution_count": 41,
   "metadata": {},
   "outputs": [],
   "source": [
    "pred_test = m.predict(True)"
   ]
  },
  {
   "cell_type": "code",
   "execution_count": 42,
   "metadata": {},
   "outputs": [
    {
     "data": {
      "text/plain": [
       "0.7495798662574252"
      ]
     },
     "execution_count": 42,
     "metadata": {},
     "output_type": "execute_result"
    }
   ],
   "source": [
    "accuracy(pred_test, y_test)"
   ]
  },
  {
   "cell_type": "markdown",
   "metadata": {
    "heading_collapsed": true
   },
   "source": [
    "## RandomForestClassifier"
   ]
  },
  {
   "cell_type": "code",
   "execution_count": 43,
   "metadata": {
    "hidden": true
   },
   "outputs": [],
   "source": [
    "from sklearn.ensemble import RandomForestClassifier"
   ]
  },
  {
   "cell_type": "code",
   "execution_count": 44,
   "metadata": {},
   "outputs": [
    {
     "data": {
      "text/plain": [
       "(1028244, 1028244)"
      ]
     },
     "execution_count": 44,
     "metadata": {},
     "output_type": "execute_result"
    }
   ],
   "source": [
    "len(df.values), len(y)"
   ]
  },
  {
   "cell_type": "code",
   "execution_count": 45,
   "metadata": {
    "hidden": true
   },
   "outputs": [],
   "source": [
    "((val,trn), (y_val,y_trn)) = split_by_idx(val_idx, df.values, y)"
   ]
  },
  {
   "cell_type": "code",
   "execution_count": 46,
   "metadata": {
    "hidden": true
   },
   "outputs": [],
   "source": [
    "m = RandomForestClassifier(n_estimators=40, max_features=0.99, min_samples_leaf=2,\n",
    "                          n_jobs=-1, oob_score=True)\n",
    "m.fit(trn, y_trn);"
   ]
  },
  {
   "cell_type": "code",
   "execution_count": 47,
   "metadata": {
    "hidden": true
   },
   "outputs": [
    {
     "data": {
      "text/plain": [
       "(0.8204936815808509, 0.6388749762945601, 0.6300731222533568)"
      ]
     },
     "execution_count": 47,
     "metadata": {},
     "output_type": "execute_result"
    }
   ],
   "source": [
    "preds = m.predict(val)\n",
    "m.score(trn, y_trn), m.score(val, y_val), m.oob_score_ #, exp_rmspe(preds, y_val)"
   ]
  }
 ],
 "metadata": {
  "anaconda-cloud": {},
  "kernelspec": {
   "display_name": "Python 3",
   "language": "python",
   "name": "python3"
  },
  "language_info": {
   "codemirror_mode": {
    "name": "ipython",
    "version": 3
   },
   "file_extension": ".py",
   "mimetype": "text/x-python",
   "name": "python",
   "nbconvert_exporter": "python",
   "pygments_lexer": "ipython3",
   "version": "3.6.4"
  },
  "toc": {
   "colors": {
    "hover_highlight": "#DAA520",
    "navigate_num": "#000000",
    "navigate_text": "#333333",
    "running_highlight": "#FF0000",
    "selected_highlight": "#FFD700",
    "sidebar_border": "#EEEEEE",
    "wrapper_background": "#FFFFFF"
   },
   "moveMenuLeft": true,
   "nav_menu": {
    "height": "173px",
    "width": "251px"
   },
   "navigate_menu": true,
   "number_sections": true,
   "sideBar": true,
   "threshold": 4,
   "toc_cell": false,
   "toc_section_display": "block",
   "toc_window_display": false,
   "widenNotebook": false
  }
 },
 "nbformat": 4,
 "nbformat_minor": 2
}
