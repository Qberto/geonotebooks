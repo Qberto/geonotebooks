{
 "cells": [
  {
   "cell_type": "code",
   "execution_count": 1,
   "metadata": {},
   "outputs": [],
   "source": [
    "import pandas as pd\n",
    "import numpy as np\n",
    "from tqdm import tqdm\n",
    "from random import *\n",
    "\n",
    "pd.set_option('display.height', 1000)\n",
    "pd.set_option('display.max_rows', 500)\n",
    "pd.set_option('display.max_columns', 500)\n",
    "pd.set_option('display.width', 1000)"
   ]
  },
  {
   "cell_type": "code",
   "execution_count": 2,
   "metadata": {},
   "outputs": [],
   "source": [
    "crashes = pd.read_pickle('crashes_weatherstn.pkl')"
   ]
  },
  {
   "cell_type": "code",
   "execution_count": 3,
   "metadata": {},
   "outputs": [
    {
     "name": "stdout",
     "output_type": "stream",
     "text": [
      "Creating negative samples for 2012\n"
     ]
    },
    {
     "name": "stderr",
     "output_type": "stream",
     "text": [
      "38831it [4:33:15,  2.37it/s]\n"
     ]
    }
   ],
   "source": [
    "for yr in range(2012, 2013):\n",
    "    print('Creating negative samples for {}'.format(yr))\n",
    "    c = crashes[crashes.year == yr]\n",
    "    negative_df = pd.DataFrame()\n",
    "    N = len(c)\n",
    "\n",
    "    for i, (row, dat) in tqdm(enumerate(c.iterrows())):\n",
    "        #print(i)\n",
    "        year, hour, day, road, beg, end = dat['year'], dat['hour'], dat['dayofyear'], dat['LABEL'], dat['BEG_MP'], dat['END_MP'], \n",
    "        # print('hour: {} day: {} segment: {}, {}, {}'.format(hour, day, road, beg, end))\n",
    "\n",
    "\n",
    "        while True:\n",
    "            rnd_hour = randint(0, 24)\n",
    "            testdf = c[(c.hour == rnd_hour) & (c.dayofyear == day) & \\\n",
    "                    ((c.LABEL == road) & (c.BEG_MP == beg) & (c.END_MP == end))]\n",
    "\n",
    "            if(len(testdf) == 0): # found negative sample with diff hour\n",
    "                #print('FOUND RANDOM HOUR')\n",
    "                sample = dat.copy()\n",
    "                sample.hour = rnd_hour\n",
    "                negative_df = negative_df.append(sample)\n",
    "                break\n",
    "\n",
    "\n",
    "        while True:\n",
    "            rnd_day = randint(1, 366)\n",
    "            testdf = c[(c.hour == hour) & (c.dayofyear == rnd_day) & \\\n",
    "                    ((c.LABEL == road) & (c.BEG_MP == beg) & (c.END_MP == end))]\n",
    "\n",
    "            if(len(testdf) == 0): # found negative sample with diff day of year\n",
    "                #print('FOUND RANDOM DAYOFYEAR')\n",
    "                sample = dat.copy()\n",
    "                sample.rnd_day = rnd_day\n",
    "                negative_df = negative_df.append(sample)\n",
    "                break\n",
    "\n",
    "        while True:\n",
    "            sample = c.sample(1).copy().iloc[0]\n",
    "\n",
    "            testdf = c[(c.hour == hour) & (c.dayofyear == day) & \\\n",
    "                    ((c.LABEL == sample.LABEL) & (c.BEG_MP == sample.BEG_MP) & (c.END_MP == sample.END_MP))]\n",
    "            if(len(testdf) == 0): # found negative sample with diff road segment\n",
    "                #print('FOUND RANDOM SEGMENT')\n",
    "                negative_df = negative_df.append(sample)\n",
    "                break\n",
    "                \n",
    "    negative_df.to_pickle('negative_{}.pkl'.format(yr))"
   ]
  }
 ],
 "metadata": {
  "kernelspec": {
   "display_name": "Python 3",
   "language": "python",
   "name": "python3"
  },
  "language_info": {
   "codemirror_mode": {
    "name": "ipython",
    "version": 3
   },
   "file_extension": ".py",
   "mimetype": "text/x-python",
   "name": "python",
   "nbconvert_exporter": "python",
   "pygments_lexer": "ipython3",
   "version": "3.6.4"
  }
 },
 "nbformat": 4,
 "nbformat_minor": 2
}
