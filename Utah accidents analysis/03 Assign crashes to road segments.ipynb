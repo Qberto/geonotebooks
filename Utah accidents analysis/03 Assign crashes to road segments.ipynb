{
 "cells": [
  {
   "cell_type": "markdown",
   "metadata": {},
   "source": [
    "### Connect to GIS"
   ]
  },
  {
   "cell_type": "code",
   "execution_count": 1,
   "metadata": {},
   "outputs": [],
   "source": [
    "from arcgis import GIS\n",
    "from arcgis.features import SpatialDataFrame, FeatureLayer"
   ]
  },
  {
   "cell_type": "code",
   "execution_count": 2,
   "metadata": {},
   "outputs": [],
   "source": [
    "gis = GIS('https://deldev.maps.arcgis.com', 'deldev', 'P@ssw0rd@123', profile='deldev')"
   ]
  },
  {
   "cell_type": "markdown",
   "metadata": {},
   "source": [
    "### Load crash data"
   ]
  },
  {
   "cell_type": "code",
   "execution_count": 3,
   "metadata": {},
   "outputs": [],
   "source": [
    "import pandas as pd\n",
    "\n",
    "pd.set_option('display.height', 1000)\n",
    "pd.set_option('display.max_rows', 500)\n",
    "pd.set_option('display.max_columns', 500)\n",
    "pd.set_option('display.width', 1000)"
   ]
  },
  {
   "cell_type": "code",
   "execution_count": 5,
   "metadata": {},
   "outputs": [],
   "source": [
    "df = pd.read_pickle('df_utah.pkl')"
   ]
  },
  {
   "cell_type": "code",
   "execution_count": 6,
   "metadata": {},
   "outputs": [
    {
     "data": {
      "text/html": [
       "<div>\n",
       "<style scoped>\n",
       "    .dataframe tbody tr th:only-of-type {\n",
       "        vertical-align: middle;\n",
       "    }\n",
       "\n",
       "    .dataframe tbody tr th {\n",
       "        vertical-align: top;\n",
       "    }\n",
       "\n",
       "    .dataframe thead th {\n",
       "        text-align: right;\n",
       "    }\n",
       "</style>\n",
       "<table border=\"1\" class=\"dataframe\">\n",
       "  <thead>\n",
       "    <tr style=\"text-align: right;\">\n",
       "      <th></th>\n",
       "      <th>CRASHID</th>\n",
       "      <th>RouteName</th>\n",
       "      <th>BeginMilePost</th>\n",
       "      <th>RoadView</th>\n",
       "      <th>CrashSeverity</th>\n",
       "      <th>MANNERCOLLISIONID</th>\n",
       "      <th>ROADWAYJUNCTFEATUREID</th>\n",
       "      <th>NUMBERVEHICLESINVOLVED</th>\n",
       "      <th>FIRSTHARMFULEVENTID</th>\n",
       "      <th>ROADWAYTYPECD</th>\n",
       "      <th>ROUTEDIRECTION</th>\n",
       "      <th>EXITNUMBER</th>\n",
       "      <th>RAMPID</th>\n",
       "      <th>Latitude</th>\n",
       "      <th>Longitude</th>\n",
       "      <th>db</th>\n",
       "      <th>project</th>\n",
       "      <th>run</th>\n",
       "      <th>lat</th>\n",
       "      <th>lon</th>\n",
       "      <th>dayofyear</th>\n",
       "      <th>year</th>\n",
       "      <th>month</th>\n",
       "      <th>day</th>\n",
       "      <th>hour</th>\n",
       "      <th>dayofweek</th>\n",
       "      <th>incident</th>\n",
       "    </tr>\n",
       "    <tr>\n",
       "      <th>DATE</th>\n",
       "      <th></th>\n",
       "      <th></th>\n",
       "      <th></th>\n",
       "      <th></th>\n",
       "      <th></th>\n",
       "      <th></th>\n",
       "      <th></th>\n",
       "      <th></th>\n",
       "      <th></th>\n",
       "      <th></th>\n",
       "      <th></th>\n",
       "      <th></th>\n",
       "      <th></th>\n",
       "      <th></th>\n",
       "      <th></th>\n",
       "      <th></th>\n",
       "      <th></th>\n",
       "      <th></th>\n",
       "      <th></th>\n",
       "      <th></th>\n",
       "      <th></th>\n",
       "      <th></th>\n",
       "      <th></th>\n",
       "      <th></th>\n",
       "      <th></th>\n",
       "      <th></th>\n",
       "      <th></th>\n",
       "    </tr>\n",
       "  </thead>\n",
       "  <tbody>\n",
       "    <tr>\n",
       "      <th>2010-10-15 19:56:00</th>\n",
       "      <td>10401151</td>\n",
       "      <td>0009P</td>\n",
       "      <td>11.64</td>\n",
       "      <td>http://168.178.125.111/virtualnavigator/udot/V...</td>\n",
       "      <td>2</td>\n",
       "      <td>Front to Rear</td>\n",
       "      <td>No Special Feature/Junction</td>\n",
       "      <td>2</td>\n",
       "      <td>Other Motor Vehicle in Transport</td>\n",
       "      <td>Mainline</td>\n",
       "      <td>P</td>\n",
       "      <td>NaN</td>\n",
       "      <td>NaN</td>\n",
       "      <td>4119389.0</td>\n",
       "      <td>298229.0</td>\n",
       "      <td>2014</td>\n",
       "      <td>0009</td>\n",
       "      <td>P</td>\n",
       "      <td>37.199177</td>\n",
       "      <td>-113.273482</td>\n",
       "      <td>288</td>\n",
       "      <td>2010</td>\n",
       "      <td>10</td>\n",
       "      <td>15</td>\n",
       "      <td>19</td>\n",
       "      <td>4</td>\n",
       "      <td>1</td>\n",
       "    </tr>\n",
       "    <tr>\n",
       "      <th>2010-08-20 19:33:00</th>\n",
       "      <td>10394697</td>\n",
       "      <td>0009P</td>\n",
       "      <td>11.85</td>\n",
       "      <td>http://168.178.125.111/virtualnavigator/udot/V...</td>\n",
       "      <td>1</td>\n",
       "      <td>Sideswipe Same Direction</td>\n",
       "      <td>No Special Feature/Junction</td>\n",
       "      <td>2</td>\n",
       "      <td>Other Motor Vehicle in Transport</td>\n",
       "      <td>Mainline</td>\n",
       "      <td>P</td>\n",
       "      <td>NaN</td>\n",
       "      <td>NaN</td>\n",
       "      <td>4119704.0</td>\n",
       "      <td>298349.0</td>\n",
       "      <td>2014</td>\n",
       "      <td>0009</td>\n",
       "      <td>P</td>\n",
       "      <td>37.202040</td>\n",
       "      <td>-113.272216</td>\n",
       "      <td>232</td>\n",
       "      <td>2010</td>\n",
       "      <td>8</td>\n",
       "      <td>20</td>\n",
       "      <td>19</td>\n",
       "      <td>4</td>\n",
       "      <td>1</td>\n",
       "    </tr>\n",
       "    <tr>\n",
       "      <th>2010-03-27 21:30:00</th>\n",
       "      <td>10346333</td>\n",
       "      <td>0009P</td>\n",
       "      <td>14.00</td>\n",
       "      <td>http://168.178.125.111/virtualnavigator/udot/V...</td>\n",
       "      <td>1</td>\n",
       "      <td>Single Vehicle</td>\n",
       "      <td>No Special Feature/Junction</td>\n",
       "      <td>1</td>\n",
       "      <td>Delineator Post</td>\n",
       "      <td>Mainline</td>\n",
       "      <td>P</td>\n",
       "      <td>NaN</td>\n",
       "      <td>NaN</td>\n",
       "      <td>4122320.0</td>\n",
       "      <td>299671.0</td>\n",
       "      <td>2014</td>\n",
       "      <td>0009</td>\n",
       "      <td>P</td>\n",
       "      <td>37.225887</td>\n",
       "      <td>-113.258033</td>\n",
       "      <td>86</td>\n",
       "      <td>2010</td>\n",
       "      <td>3</td>\n",
       "      <td>27</td>\n",
       "      <td>21</td>\n",
       "      <td>5</td>\n",
       "      <td>1</td>\n",
       "    </tr>\n",
       "    <tr>\n",
       "      <th>2010-04-16 13:45:00</th>\n",
       "      <td>10352753</td>\n",
       "      <td>0009P</td>\n",
       "      <td>14.00</td>\n",
       "      <td>http://168.178.125.111/virtualnavigator/udot/V...</td>\n",
       "      <td>1</td>\n",
       "      <td>Single Vehicle</td>\n",
       "      <td>No Special Feature/Junction</td>\n",
       "      <td>1</td>\n",
       "      <td>Overturn/Rollover</td>\n",
       "      <td>Mainline</td>\n",
       "      <td>P</td>\n",
       "      <td>NaN</td>\n",
       "      <td>NaN</td>\n",
       "      <td>4122320.0</td>\n",
       "      <td>299671.0</td>\n",
       "      <td>2014</td>\n",
       "      <td>0009</td>\n",
       "      <td>P</td>\n",
       "      <td>37.225887</td>\n",
       "      <td>-113.258033</td>\n",
       "      <td>106</td>\n",
       "      <td>2010</td>\n",
       "      <td>4</td>\n",
       "      <td>16</td>\n",
       "      <td>13</td>\n",
       "      <td>4</td>\n",
       "      <td>1</td>\n",
       "    </tr>\n",
       "    <tr>\n",
       "      <th>2010-03-05 09:48:00</th>\n",
       "      <td>10357506</td>\n",
       "      <td>0009P</td>\n",
       "      <td>21.00</td>\n",
       "      <td>http://168.178.125.111/virtualnavigator/udot/V...</td>\n",
       "      <td>1</td>\n",
       "      <td>Single Vehicle</td>\n",
       "      <td>No Special Feature/Junction</td>\n",
       "      <td>1</td>\n",
       "      <td>Animal - Wild</td>\n",
       "      <td>Mainline</td>\n",
       "      <td>P</td>\n",
       "      <td>NaN</td>\n",
       "      <td>NaN</td>\n",
       "      <td>4118637.0</td>\n",
       "      <td>309403.0</td>\n",
       "      <td>2014</td>\n",
       "      <td>0009</td>\n",
       "      <td>P</td>\n",
       "      <td>37.194752</td>\n",
       "      <td>-113.147468</td>\n",
       "      <td>64</td>\n",
       "      <td>2010</td>\n",
       "      <td>3</td>\n",
       "      <td>5</td>\n",
       "      <td>9</td>\n",
       "      <td>4</td>\n",
       "      <td>1</td>\n",
       "    </tr>\n",
       "  </tbody>\n",
       "</table>\n",
       "</div>"
      ],
      "text/plain": [
       "                      CRASHID RouteName  BeginMilePost                                           RoadView  CrashSeverity         MANNERCOLLISIONID        ROADWAYJUNCTFEATUREID  NUMBERVEHICLESINVOLVED               FIRSTHARMFULEVENTID ROADWAYTYPECD ROUTEDIRECTION  EXITNUMBER RAMPID   Latitude  Longitude    db project run        lat         lon  dayofyear  year  month  day  hour  dayofweek  incident\n",
       "DATE                                                                                                                                                                                                                                                                                                                                                                                                            \n",
       "2010-10-15 19:56:00  10401151     0009P          11.64  http://168.178.125.111/virtualnavigator/udot/V...              2             Front to Rear  No Special Feature/Junction                       2  Other Motor Vehicle in Transport      Mainline              P         NaN    NaN  4119389.0   298229.0  2014    0009   P  37.199177 -113.273482        288  2010     10   15    19          4         1\n",
       "2010-08-20 19:33:00  10394697     0009P          11.85  http://168.178.125.111/virtualnavigator/udot/V...              1  Sideswipe Same Direction  No Special Feature/Junction                       2  Other Motor Vehicle in Transport      Mainline              P         NaN    NaN  4119704.0   298349.0  2014    0009   P  37.202040 -113.272216        232  2010      8   20    19          4         1\n",
       "2010-03-27 21:30:00  10346333     0009P          14.00  http://168.178.125.111/virtualnavigator/udot/V...              1            Single Vehicle  No Special Feature/Junction                       1                   Delineator Post      Mainline              P         NaN    NaN  4122320.0   299671.0  2014    0009   P  37.225887 -113.258033         86  2010      3   27    21          5         1\n",
       "2010-04-16 13:45:00  10352753     0009P          14.00  http://168.178.125.111/virtualnavigator/udot/V...              1            Single Vehicle  No Special Feature/Junction                       1                 Overturn/Rollover      Mainline              P         NaN    NaN  4122320.0   299671.0  2014    0009   P  37.225887 -113.258033        106  2010      4   16    13          4         1\n",
       "2010-03-05 09:48:00  10357506     0009P          21.00  http://168.178.125.111/virtualnavigator/udot/V...              1            Single Vehicle  No Special Feature/Junction                       1                     Animal - Wild      Mainline              P         NaN    NaN  4118637.0   309403.0  2014    0009   P  37.194752 -113.147468         64  2010      3    5     9          4         1"
      ]
     },
     "execution_count": 6,
     "metadata": {},
     "output_type": "execute_result"
    }
   ],
   "source": [
    "df.head()"
   ]
  },
  {
   "cell_type": "code",
   "execution_count": 7,
   "metadata": {},
   "outputs": [
    {
     "data": {
      "text/plain": [
       "(430745, 27)"
      ]
     },
     "execution_count": 7,
     "metadata": {},
     "output_type": "execute_result"
    }
   ],
   "source": [
    "df.shape"
   ]
  },
  {
   "cell_type": "code",
   "execution_count": 8,
   "metadata": {},
   "outputs": [
    {
     "data": {
      "text/plain": [
       "(16179, 27)"
      ]
     },
     "execution_count": 8,
     "metadata": {},
     "output_type": "execute_result"
    }
   ],
   "source": [
    "df[df.RAMPID.notnull()].shape"
   ]
  },
  {
   "cell_type": "code",
   "execution_count": 9,
   "metadata": {},
   "outputs": [],
   "source": [
    "df['RouteName'] = df['RouteName'].apply(lambda x: x.zfill(5)) # mislabeled, zero pad so it matches LRS names\n",
    "df.loc[df.RouteName == '0011P', 'RouteName'] = '089AP'        # mislabeled - QA from ArcGIS Pro inspection"
   ]
  },
  {
   "cell_type": "code",
   "execution_count": 10,
   "metadata": {},
   "outputs": [
    {
     "data": {
      "text/plain": [
       "2105"
      ]
     },
     "execution_count": 10,
     "metadata": {},
     "output_type": "execute_result"
    }
   ],
   "source": [
    "route_names = df.RouteName.unique()\n",
    "len(route_names)"
   ]
  },
  {
   "cell_type": "code",
   "execution_count": 11,
   "metadata": {},
   "outputs": [
    {
     "data": {
      "text/html": [
       "<div>\n",
       "<style scoped>\n",
       "    .dataframe tbody tr th:only-of-type {\n",
       "        vertical-align: middle;\n",
       "    }\n",
       "\n",
       "    .dataframe tbody tr th {\n",
       "        vertical-align: top;\n",
       "    }\n",
       "\n",
       "    .dataframe thead th {\n",
       "        text-align: right;\n",
       "    }\n",
       "</style>\n",
       "<table border=\"1\" class=\"dataframe\">\n",
       "  <thead>\n",
       "    <tr style=\"text-align: right;\">\n",
       "      <th></th>\n",
       "      <th>CRASHID</th>\n",
       "      <th>RouteName</th>\n",
       "      <th>BeginMilePost</th>\n",
       "      <th>RoadView</th>\n",
       "      <th>CrashSeverity</th>\n",
       "      <th>MANNERCOLLISIONID</th>\n",
       "      <th>ROADWAYJUNCTFEATUREID</th>\n",
       "      <th>NUMBERVEHICLESINVOLVED</th>\n",
       "      <th>FIRSTHARMFULEVENTID</th>\n",
       "      <th>ROADWAYTYPECD</th>\n",
       "      <th>ROUTEDIRECTION</th>\n",
       "      <th>EXITNUMBER</th>\n",
       "      <th>RAMPID</th>\n",
       "      <th>Latitude</th>\n",
       "      <th>Longitude</th>\n",
       "      <th>db</th>\n",
       "      <th>project</th>\n",
       "      <th>run</th>\n",
       "      <th>lat</th>\n",
       "      <th>lon</th>\n",
       "      <th>dayofyear</th>\n",
       "      <th>year</th>\n",
       "      <th>month</th>\n",
       "      <th>day</th>\n",
       "      <th>hour</th>\n",
       "      <th>dayofweek</th>\n",
       "      <th>incident</th>\n",
       "    </tr>\n",
       "    <tr>\n",
       "      <th>DATE</th>\n",
       "      <th></th>\n",
       "      <th></th>\n",
       "      <th></th>\n",
       "      <th></th>\n",
       "      <th></th>\n",
       "      <th></th>\n",
       "      <th></th>\n",
       "      <th></th>\n",
       "      <th></th>\n",
       "      <th></th>\n",
       "      <th></th>\n",
       "      <th></th>\n",
       "      <th></th>\n",
       "      <th></th>\n",
       "      <th></th>\n",
       "      <th></th>\n",
       "      <th></th>\n",
       "      <th></th>\n",
       "      <th></th>\n",
       "      <th></th>\n",
       "      <th></th>\n",
       "      <th></th>\n",
       "      <th></th>\n",
       "      <th></th>\n",
       "      <th></th>\n",
       "      <th></th>\n",
       "      <th></th>\n",
       "    </tr>\n",
       "  </thead>\n",
       "  <tbody>\n",
       "  </tbody>\n",
       "</table>\n",
       "</div>"
      ],
      "text/plain": [
       "Empty DataFrame\n",
       "Columns: [CRASHID, RouteName, BeginMilePost, RoadView, CrashSeverity, MANNERCOLLISIONID, ROADWAYJUNCTFEATUREID, NUMBERVEHICLESINVOLVED, FIRSTHARMFULEVENTID, ROADWAYTYPECD, ROUTEDIRECTION, EXITNUMBER, RAMPID, Latitude, Longitude, db, project, run, lat, lon, dayofyear, year, month, day, hour, dayofweek, incident]\n",
       "Index: []"
      ]
     },
     "execution_count": 11,
     "metadata": {},
     "output_type": "execute_result"
    }
   ],
   "source": [
    "df[df.RouteName.str.len()<5]"
   ]
  },
  {
   "cell_type": "markdown",
   "metadata": {},
   "source": [
    "### Make LABEL column to join with Safety Index Layer\n",
    "\n",
    "The RouteName contains just the road names. If the crash occurred on a ramp or connector, RAMPID is a number and the ramp/connector label is in the project column. The LABEL column reads these from the RouteName or project column conditionally. In some cases, RAMPID is a number but project does not include the ramp label (which is supposed to be 11 chars long). Handle that as well."
   ]
  },
  {
   "cell_type": "code",
   "execution_count": 12,
   "metadata": {},
   "outputs": [],
   "source": [
    "df['LABEL'] = df.project.where(df.RAMPID.notnull() & (df.project.str.len()==11), df['RouteName'])"
   ]
  },
  {
   "cell_type": "code",
   "execution_count": 13,
   "metadata": {},
   "outputs": [
    {
     "data": {
      "text/plain": [
       "(16108, 28)"
      ]
     },
     "execution_count": 13,
     "metadata": {},
     "output_type": "execute_result"
    }
   ],
   "source": [
    "df[df.LABEL.str.len()==11].shape"
   ]
  },
  {
   "cell_type": "code",
   "execution_count": 14,
   "metadata": {},
   "outputs": [
    {
     "data": {
      "text/html": [
       "<div>\n",
       "<style scoped>\n",
       "    .dataframe tbody tr th:only-of-type {\n",
       "        vertical-align: middle;\n",
       "    }\n",
       "\n",
       "    .dataframe tbody tr th {\n",
       "        vertical-align: top;\n",
       "    }\n",
       "\n",
       "    .dataframe thead th {\n",
       "        text-align: right;\n",
       "    }\n",
       "</style>\n",
       "<table border=\"1\" class=\"dataframe\">\n",
       "  <thead>\n",
       "    <tr style=\"text-align: right;\">\n",
       "      <th></th>\n",
       "      <th>CRASHID</th>\n",
       "      <th>RouteName</th>\n",
       "      <th>BeginMilePost</th>\n",
       "      <th>RoadView</th>\n",
       "      <th>CrashSeverity</th>\n",
       "      <th>MANNERCOLLISIONID</th>\n",
       "      <th>ROADWAYJUNCTFEATUREID</th>\n",
       "      <th>NUMBERVEHICLESINVOLVED</th>\n",
       "      <th>FIRSTHARMFULEVENTID</th>\n",
       "      <th>ROADWAYTYPECD</th>\n",
       "      <th>ROUTEDIRECTION</th>\n",
       "      <th>EXITNUMBER</th>\n",
       "      <th>RAMPID</th>\n",
       "      <th>Latitude</th>\n",
       "      <th>Longitude</th>\n",
       "      <th>db</th>\n",
       "      <th>project</th>\n",
       "      <th>run</th>\n",
       "      <th>lat</th>\n",
       "      <th>lon</th>\n",
       "      <th>dayofyear</th>\n",
       "      <th>year</th>\n",
       "      <th>month</th>\n",
       "      <th>day</th>\n",
       "      <th>hour</th>\n",
       "      <th>dayofweek</th>\n",
       "      <th>incident</th>\n",
       "      <th>LABEL</th>\n",
       "    </tr>\n",
       "    <tr>\n",
       "      <th>DATE</th>\n",
       "      <th></th>\n",
       "      <th></th>\n",
       "      <th></th>\n",
       "      <th></th>\n",
       "      <th></th>\n",
       "      <th></th>\n",
       "      <th></th>\n",
       "      <th></th>\n",
       "      <th></th>\n",
       "      <th></th>\n",
       "      <th></th>\n",
       "      <th></th>\n",
       "      <th></th>\n",
       "      <th></th>\n",
       "      <th></th>\n",
       "      <th></th>\n",
       "      <th></th>\n",
       "      <th></th>\n",
       "      <th></th>\n",
       "      <th></th>\n",
       "      <th></th>\n",
       "      <th></th>\n",
       "      <th></th>\n",
       "      <th></th>\n",
       "      <th></th>\n",
       "      <th></th>\n",
       "      <th></th>\n",
       "      <th></th>\n",
       "    </tr>\n",
       "  </thead>\n",
       "  <tbody>\n",
       "    <tr>\n",
       "      <th>2010-10-15 19:56:00</th>\n",
       "      <td>10401151</td>\n",
       "      <td>0009P</td>\n",
       "      <td>11.64</td>\n",
       "      <td>http://168.178.125.111/virtualnavigator/udot/V...</td>\n",
       "      <td>2</td>\n",
       "      <td>Front to Rear</td>\n",
       "      <td>No Special Feature/Junction</td>\n",
       "      <td>2</td>\n",
       "      <td>Other Motor Vehicle in Transport</td>\n",
       "      <td>Mainline</td>\n",
       "      <td>P</td>\n",
       "      <td>NaN</td>\n",
       "      <td>NaN</td>\n",
       "      <td>4119389.0</td>\n",
       "      <td>298229.0</td>\n",
       "      <td>2014</td>\n",
       "      <td>0009</td>\n",
       "      <td>P</td>\n",
       "      <td>37.199177</td>\n",
       "      <td>-113.273482</td>\n",
       "      <td>288</td>\n",
       "      <td>2010</td>\n",
       "      <td>10</td>\n",
       "      <td>15</td>\n",
       "      <td>19</td>\n",
       "      <td>4</td>\n",
       "      <td>1</td>\n",
       "      <td>0009P</td>\n",
       "    </tr>\n",
       "    <tr>\n",
       "      <th>2010-08-20 19:33:00</th>\n",
       "      <td>10394697</td>\n",
       "      <td>0009P</td>\n",
       "      <td>11.85</td>\n",
       "      <td>http://168.178.125.111/virtualnavigator/udot/V...</td>\n",
       "      <td>1</td>\n",
       "      <td>Sideswipe Same Direction</td>\n",
       "      <td>No Special Feature/Junction</td>\n",
       "      <td>2</td>\n",
       "      <td>Other Motor Vehicle in Transport</td>\n",
       "      <td>Mainline</td>\n",
       "      <td>P</td>\n",
       "      <td>NaN</td>\n",
       "      <td>NaN</td>\n",
       "      <td>4119704.0</td>\n",
       "      <td>298349.0</td>\n",
       "      <td>2014</td>\n",
       "      <td>0009</td>\n",
       "      <td>P</td>\n",
       "      <td>37.202040</td>\n",
       "      <td>-113.272216</td>\n",
       "      <td>232</td>\n",
       "      <td>2010</td>\n",
       "      <td>8</td>\n",
       "      <td>20</td>\n",
       "      <td>19</td>\n",
       "      <td>4</td>\n",
       "      <td>1</td>\n",
       "      <td>0009P</td>\n",
       "    </tr>\n",
       "    <tr>\n",
       "      <th>2010-03-27 21:30:00</th>\n",
       "      <td>10346333</td>\n",
       "      <td>0009P</td>\n",
       "      <td>14.00</td>\n",
       "      <td>http://168.178.125.111/virtualnavigator/udot/V...</td>\n",
       "      <td>1</td>\n",
       "      <td>Single Vehicle</td>\n",
       "      <td>No Special Feature/Junction</td>\n",
       "      <td>1</td>\n",
       "      <td>Delineator Post</td>\n",
       "      <td>Mainline</td>\n",
       "      <td>P</td>\n",
       "      <td>NaN</td>\n",
       "      <td>NaN</td>\n",
       "      <td>4122320.0</td>\n",
       "      <td>299671.0</td>\n",
       "      <td>2014</td>\n",
       "      <td>0009</td>\n",
       "      <td>P</td>\n",
       "      <td>37.225887</td>\n",
       "      <td>-113.258033</td>\n",
       "      <td>86</td>\n",
       "      <td>2010</td>\n",
       "      <td>3</td>\n",
       "      <td>27</td>\n",
       "      <td>21</td>\n",
       "      <td>5</td>\n",
       "      <td>1</td>\n",
       "      <td>0009P</td>\n",
       "    </tr>\n",
       "    <tr>\n",
       "      <th>2010-04-16 13:45:00</th>\n",
       "      <td>10352753</td>\n",
       "      <td>0009P</td>\n",
       "      <td>14.00</td>\n",
       "      <td>http://168.178.125.111/virtualnavigator/udot/V...</td>\n",
       "      <td>1</td>\n",
       "      <td>Single Vehicle</td>\n",
       "      <td>No Special Feature/Junction</td>\n",
       "      <td>1</td>\n",
       "      <td>Overturn/Rollover</td>\n",
       "      <td>Mainline</td>\n",
       "      <td>P</td>\n",
       "      <td>NaN</td>\n",
       "      <td>NaN</td>\n",
       "      <td>4122320.0</td>\n",
       "      <td>299671.0</td>\n",
       "      <td>2014</td>\n",
       "      <td>0009</td>\n",
       "      <td>P</td>\n",
       "      <td>37.225887</td>\n",
       "      <td>-113.258033</td>\n",
       "      <td>106</td>\n",
       "      <td>2010</td>\n",
       "      <td>4</td>\n",
       "      <td>16</td>\n",
       "      <td>13</td>\n",
       "      <td>4</td>\n",
       "      <td>1</td>\n",
       "      <td>0009P</td>\n",
       "    </tr>\n",
       "    <tr>\n",
       "      <th>2010-03-05 09:48:00</th>\n",
       "      <td>10357506</td>\n",
       "      <td>0009P</td>\n",
       "      <td>21.00</td>\n",
       "      <td>http://168.178.125.111/virtualnavigator/udot/V...</td>\n",
       "      <td>1</td>\n",
       "      <td>Single Vehicle</td>\n",
       "      <td>No Special Feature/Junction</td>\n",
       "      <td>1</td>\n",
       "      <td>Animal - Wild</td>\n",
       "      <td>Mainline</td>\n",
       "      <td>P</td>\n",
       "      <td>NaN</td>\n",
       "      <td>NaN</td>\n",
       "      <td>4118637.0</td>\n",
       "      <td>309403.0</td>\n",
       "      <td>2014</td>\n",
       "      <td>0009</td>\n",
       "      <td>P</td>\n",
       "      <td>37.194752</td>\n",
       "      <td>-113.147468</td>\n",
       "      <td>64</td>\n",
       "      <td>2010</td>\n",
       "      <td>3</td>\n",
       "      <td>5</td>\n",
       "      <td>9</td>\n",
       "      <td>4</td>\n",
       "      <td>1</td>\n",
       "      <td>0009P</td>\n",
       "    </tr>\n",
       "  </tbody>\n",
       "</table>\n",
       "</div>"
      ],
      "text/plain": [
       "                      CRASHID RouteName  BeginMilePost                                           RoadView  CrashSeverity         MANNERCOLLISIONID        ROADWAYJUNCTFEATUREID  NUMBERVEHICLESINVOLVED               FIRSTHARMFULEVENTID ROADWAYTYPECD ROUTEDIRECTION  EXITNUMBER RAMPID   Latitude  Longitude    db project run        lat         lon  dayofyear  year  month  day  hour  dayofweek  incident  LABEL\n",
       "DATE                                                                                                                                                                                                                                                                                                                                                                                                                   \n",
       "2010-10-15 19:56:00  10401151     0009P          11.64  http://168.178.125.111/virtualnavigator/udot/V...              2             Front to Rear  No Special Feature/Junction                       2  Other Motor Vehicle in Transport      Mainline              P         NaN    NaN  4119389.0   298229.0  2014    0009   P  37.199177 -113.273482        288  2010     10   15    19          4         1  0009P\n",
       "2010-08-20 19:33:00  10394697     0009P          11.85  http://168.178.125.111/virtualnavigator/udot/V...              1  Sideswipe Same Direction  No Special Feature/Junction                       2  Other Motor Vehicle in Transport      Mainline              P         NaN    NaN  4119704.0   298349.0  2014    0009   P  37.202040 -113.272216        232  2010      8   20    19          4         1  0009P\n",
       "2010-03-27 21:30:00  10346333     0009P          14.00  http://168.178.125.111/virtualnavigator/udot/V...              1            Single Vehicle  No Special Feature/Junction                       1                   Delineator Post      Mainline              P         NaN    NaN  4122320.0   299671.0  2014    0009   P  37.225887 -113.258033         86  2010      3   27    21          5         1  0009P\n",
       "2010-04-16 13:45:00  10352753     0009P          14.00  http://168.178.125.111/virtualnavigator/udot/V...              1            Single Vehicle  No Special Feature/Junction                       1                 Overturn/Rollover      Mainline              P         NaN    NaN  4122320.0   299671.0  2014    0009   P  37.225887 -113.258033        106  2010      4   16    13          4         1  0009P\n",
       "2010-03-05 09:48:00  10357506     0009P          21.00  http://168.178.125.111/virtualnavigator/udot/V...              1            Single Vehicle  No Special Feature/Junction                       1                     Animal - Wild      Mainline              P         NaN    NaN  4118637.0   309403.0  2014    0009   P  37.194752 -113.147468         64  2010      3    5     9          4         1  0009P"
      ]
     },
     "execution_count": 14,
     "metadata": {},
     "output_type": "execute_result"
    }
   ],
   "source": [
    "df[df.LABEL.str.len()<11].head()"
   ]
  },
  {
   "cell_type": "markdown",
   "metadata": {},
   "source": [
    "### Safety Index layer"
   ]
  },
  {
   "cell_type": "code",
   "execution_count": 4,
   "metadata": {},
   "outputs": [],
   "source": [
    "from arcgis.features import SpatialDataFrame, FeatureLayer\n",
    "safetyindex_lyr = FeatureLayer('https://maps.udot.utah.gov/arcgis/rest/services/Safety_SafetyIndex/MapServer/0')\n",
    "safetyindex_df = SpatialDataFrame.from_layer(safetyindex_lyr)"
   ]
  },
  {
   "cell_type": "code",
   "execution_count": 8,
   "metadata": {},
   "outputs": [
    {
     "data": {
      "text/html": [
       "<div>\n",
       "<style scoped>\n",
       "    .dataframe tbody tr th:only-of-type {\n",
       "        vertical-align: middle;\n",
       "    }\n",
       "\n",
       "    .dataframe tbody tr th {\n",
       "        vertical-align: top;\n",
       "    }\n",
       "\n",
       "    .dataframe thead th {\n",
       "        text-align: right;\n",
       "    }\n",
       "</style>\n",
       "<table border=\"1\" class=\"dataframe\">\n",
       "  <thead>\n",
       "    <tr style=\"text-align: right;\">\n",
       "      <th></th>\n",
       "      <th>AVG_AADT</th>\n",
       "      <th>AvE_CRT</th>\n",
       "      <th>AvE_SEV_CR</th>\n",
       "      <th>BEG_MP</th>\n",
       "      <th>CRT</th>\n",
       "      <th>C_MI</th>\n",
       "      <th>DESCRIP</th>\n",
       "      <th>END_MP</th>\n",
       "      <th>EXP_CRT</th>\n",
       "      <th>EXP_SEV_CR</th>\n",
       "      <th>FC_NAME</th>\n",
       "      <th>LABEL</th>\n",
       "      <th>OBJECTID</th>\n",
       "      <th>PROTECTED</th>\n",
       "      <th>REGION</th>\n",
       "      <th>RouteNm</th>\n",
       "      <th>SAF_INDEX</th>\n",
       "      <th>SEV_CRT</th>\n",
       "      <th>SEV_C_MI</th>\n",
       "      <th>State_FA</th>\n",
       "      <th>TOT_C</th>\n",
       "      <th>TOT_SEV_C</th>\n",
       "      <th>SHAPE</th>\n",
       "    </tr>\n",
       "  </thead>\n",
       "  <tbody>\n",
       "    <tr>\n",
       "      <th>0</th>\n",
       "      <td>16786.666667</td>\n",
       "      <td>0.416872</td>\n",
       "      <td>0.510455</td>\n",
       "      <td>88.353</td>\n",
       "      <td>0.312654</td>\n",
       "      <td>1.915709</td>\n",
       "      <td>SR 271 Paragonah</td>\n",
       "      <td>94.453</td>\n",
       "      <td>0.75</td>\n",
       "      <td>3.5</td>\n",
       "      <td>Rural Interstate</td>\n",
       "      <td>0015N</td>\n",
       "      <td>1</td>\n",
       "      <td>23 USC 409</td>\n",
       "      <td>4</td>\n",
       "      <td>I-15</td>\n",
       "      <td>3.5</td>\n",
       "      <td>1.786592</td>\n",
       "      <td>0.109469</td>\n",
       "      <td>State</td>\n",
       "      <td>35</td>\n",
       "      <td>2</td>\n",
       "      <td>{'paths': [[[-12549375.5384, 4578057.411700003...</td>\n",
       "    </tr>\n",
       "    <tr>\n",
       "      <th>1</th>\n",
       "      <td>86801.666667</td>\n",
       "      <td>0.628322</td>\n",
       "      <td>0.000000</td>\n",
       "      <td>7.697</td>\n",
       "      <td>0.703721</td>\n",
       "      <td>22.295806</td>\n",
       "      <td>SR 152 2000 East (Highland Drive)</td>\n",
       "      <td>9.216</td>\n",
       "      <td>1.12</td>\n",
       "      <td>1.4</td>\n",
       "      <td>Urban Interstate</td>\n",
       "      <td>0215P</td>\n",
       "      <td>2</td>\n",
       "      <td>23 USC 409</td>\n",
       "      <td>2</td>\n",
       "      <td>I-215</td>\n",
       "      <td>2.5</td>\n",
       "      <td>0.000000</td>\n",
       "      <td>0.000000</td>\n",
       "      <td>State</td>\n",
       "      <td>101</td>\n",
       "      <td>0</td>\n",
       "      <td>{'paths': [[[-12449309.0297, 4958382.946800001...</td>\n",
       "    </tr>\n",
       "    <tr>\n",
       "      <th>2</th>\n",
       "      <td>19135.000000</td>\n",
       "      <td>1.097356</td>\n",
       "      <td>0.000000</td>\n",
       "      <td>0.000</td>\n",
       "      <td>3.006754</td>\n",
       "      <td>21.000000</td>\n",
       "      <td>Bangerter Highway via 10400 South</td>\n",
       "      <td>1.004</td>\n",
       "      <td>2.74</td>\n",
       "      <td>6.8</td>\n",
       "      <td>Urban Principal Arterial</td>\n",
       "      <td>0151P</td>\n",
       "      <td>3</td>\n",
       "      <td>23 USC 409</td>\n",
       "      <td>2</td>\n",
       "      <td>SR-151</td>\n",
       "      <td>3.0</td>\n",
       "      <td>0.000000</td>\n",
       "      <td>0.000000</td>\n",
       "      <td>State</td>\n",
       "      <td>63</td>\n",
       "      <td>0</td>\n",
       "      <td>{'paths': [[[-12465232.5222, 4947938.317000002...</td>\n",
       "    </tr>\n",
       "    <tr>\n",
       "      <th>3</th>\n",
       "      <td>2836.666667</td>\n",
       "      <td>1.745239</td>\n",
       "      <td>3.620154</td>\n",
       "      <td>7.072</td>\n",
       "      <td>4.677239</td>\n",
       "      <td>4.843305</td>\n",
       "      <td>Rt turns on 6800 South - SR 156</td>\n",
       "      <td>8.247</td>\n",
       "      <td>2.68</td>\n",
       "      <td>7.6</td>\n",
       "      <td>Urban Collector</td>\n",
       "      <td>0115P</td>\n",
       "      <td>4</td>\n",
       "      <td>23 USC 409</td>\n",
       "      <td>3</td>\n",
       "      <td>SR-115</td>\n",
       "      <td>7.0</td>\n",
       "      <td>27.513173</td>\n",
       "      <td>0.284900</td>\n",
       "      <td>State</td>\n",
       "      <td>17</td>\n",
       "      <td>1</td>\n",
       "      <td>{'paths': [[[-12431824.1703, 4881649.121600002...</td>\n",
       "    </tr>\n",
       "    <tr>\n",
       "      <th>4</th>\n",
       "      <td>13583.588402</td>\n",
       "      <td>1.355949</td>\n",
       "      <td>0.650438</td>\n",
       "      <td>1.343</td>\n",
       "      <td>3.715300</td>\n",
       "      <td>18.421053</td>\n",
       "      <td>SR 90 (200 S) via SR 13 (Main St) - Forest St ...</td>\n",
       "      <td>2.872</td>\n",
       "      <td>2.74</td>\n",
       "      <td>6.8</td>\n",
       "      <td>Urban Principal Arterial</td>\n",
       "      <td>0013P</td>\n",
       "      <td>5</td>\n",
       "      <td>23 USC 409</td>\n",
       "      <td>1</td>\n",
       "      <td>SR-13</td>\n",
       "      <td>6.0</td>\n",
       "      <td>4.422976</td>\n",
       "      <td>0.219298</td>\n",
       "      <td>State</td>\n",
       "      <td>84</td>\n",
       "      <td>1</td>\n",
       "      <td>{'paths': [[[-12469545.3113, 5087281.274599999...</td>\n",
       "    </tr>\n",
       "  </tbody>\n",
       "</table>\n",
       "</div>"
      ],
      "text/plain": [
       "       AVG_AADT   AvE_CRT  AvE_SEV_CR  BEG_MP       CRT       C_MI                                            DESCRIP  END_MP  EXP_CRT  EXP_SEV_CR                   FC_NAME  LABEL  OBJECTID   PROTECTED  REGION RouteNm  SAF_INDEX    SEV_CRT  SEV_C_MI State_FA  TOT_C  TOT_SEV_C                                              SHAPE\n",
       "0  16786.666667  0.416872    0.510455  88.353  0.312654   1.915709                                   SR 271 Paragonah  94.453     0.75         3.5          Rural Interstate  0015N         1  23 USC 409       4    I-15        3.5   1.786592  0.109469    State     35          2  {'paths': [[[-12549375.5384, 4578057.411700003...\n",
       "1  86801.666667  0.628322    0.000000   7.697  0.703721  22.295806                  SR 152 2000 East (Highland Drive)   9.216     1.12         1.4          Urban Interstate  0215P         2  23 USC 409       2   I-215        2.5   0.000000  0.000000    State    101          0  {'paths': [[[-12449309.0297, 4958382.946800001...\n",
       "2  19135.000000  1.097356    0.000000   0.000  3.006754  21.000000                  Bangerter Highway via 10400 South   1.004     2.74         6.8  Urban Principal Arterial  0151P         3  23 USC 409       2  SR-151        3.0   0.000000  0.000000    State     63          0  {'paths': [[[-12465232.5222, 4947938.317000002...\n",
       "3   2836.666667  1.745239    3.620154   7.072  4.677239   4.843305                    Rt turns on 6800 South - SR 156   8.247     2.68         7.6           Urban Collector  0115P         4  23 USC 409       3  SR-115        7.0  27.513173  0.284900    State     17          1  {'paths': [[[-12431824.1703, 4881649.121600002...\n",
       "4  13583.588402  1.355949    0.650438   1.343  3.715300  18.421053  SR 90 (200 S) via SR 13 (Main St) - Forest St ...   2.872     2.74         6.8  Urban Principal Arterial  0013P         5  23 USC 409       1   SR-13        6.0   4.422976  0.219298    State     84          1  {'paths': [[[-12469545.3113, 5087281.274599999..."
      ]
     },
     "execution_count": 8,
     "metadata": {},
     "output_type": "execute_result"
    }
   ],
   "source": [
    "safetyindex_df.head()"
   ]
  },
  {
   "cell_type": "code",
   "execution_count": 6,
   "metadata": {},
   "outputs": [
    {
     "data": {
      "text/plain": [
       "(3667, 23)"
      ]
     },
     "execution_count": 6,
     "metadata": {},
     "output_type": "execute_result"
    }
   ],
   "source": [
    "safetyindex_df.shape"
   ]
  },
  {
   "cell_type": "markdown",
   "metadata": {},
   "source": [
    "### Choosing which data points to use"
   ]
  },
  {
   "cell_type": "code",
   "execution_count": 17,
   "metadata": {},
   "outputs": [],
   "source": [
    "crashes_ramps = df[df['LABEL'].str.len()==11]  # crashes on ramps"
   ]
  },
  {
   "cell_type": "code",
   "execution_count": 18,
   "metadata": {},
   "outputs": [],
   "source": [
    "crashes_roads = df[df['LABEL'].str.len()!=11]  # crashes on roads"
   ]
  },
  {
   "cell_type": "code",
   "execution_count": 19,
   "metadata": {},
   "outputs": [
    {
     "data": {
      "text/plain": [
       "1062"
      ]
     },
     "execution_count": 19,
     "metadata": {},
     "output_type": "execute_result"
    }
   ],
   "source": [
    "len(crashes_ramps.LABEL.unique())"
   ]
  },
  {
   "cell_type": "code",
   "execution_count": 20,
   "metadata": {},
   "outputs": [
    {
     "data": {
      "text/plain": [
       "2099"
      ]
     },
     "execution_count": 20,
     "metadata": {},
     "output_type": "execute_result"
    }
   ],
   "source": [
    "len(crashes_roads.LABEL.unique())"
   ]
  },
  {
   "cell_type": "code",
   "execution_count": 21,
   "metadata": {},
   "outputs": [
    {
     "data": {
      "text/plain": [
       "904"
      ]
     },
     "execution_count": 21,
     "metadata": {},
     "output_type": "execute_result"
    }
   ],
   "source": [
    "len(safetyindex_df.LABEL.unique())   # 2099 - 904 roads will not be matched, hopefully they're minor roads"
   ]
  },
  {
   "cell_type": "code",
   "execution_count": 22,
   "metadata": {},
   "outputs": [
    {
     "data": {
      "text/plain": [
       "406"
      ]
     },
     "execution_count": 22,
     "metadata": {},
     "output_type": "execute_result"
    }
   ],
   "source": [
    "len(crashes_roads[crashes_roads['LABEL'].str.len()>5]['LABEL'].unique())"
   ]
  },
  {
   "cell_type": "code",
   "execution_count": 23,
   "metadata": {},
   "outputs": [
    {
     "data": {
      "text/plain": [
       "1693"
      ]
     },
     "execution_count": 23,
     "metadata": {},
     "output_type": "execute_result"
    }
   ],
   "source": [
    "len(crashes_roads[crashes_roads['LABEL'].str.len()==5]['LABEL'].unique())"
   ]
  },
  {
   "cell_type": "code",
   "execution_count": 24,
   "metadata": {},
   "outputs": [
    {
     "data": {
      "text/plain": [
       "Series([], Name: LABEL, dtype: object)"
      ]
     },
     "execution_count": 24,
     "metadata": {},
     "output_type": "execute_result"
    }
   ],
   "source": [
    "crashes_roads[crashes_roads['LABEL'].str.len()<5]['LABEL']"
   ]
  },
  {
   "cell_type": "code",
   "execution_count": 25,
   "metadata": {},
   "outputs": [
    {
     "data": {
      "text/plain": [
       "(16108, 414637)"
      ]
     },
     "execution_count": 25,
     "metadata": {},
     "output_type": "execute_result"
    }
   ],
   "source": [
    "len(crashes_ramps), len(crashes_roads)"
   ]
  },
  {
   "cell_type": "code",
   "execution_count": 26,
   "metadata": {},
   "outputs": [
    {
     "data": {
      "text/plain": [
       "(342376, 28)"
      ]
     },
     "execution_count": 26,
     "metadata": {},
     "output_type": "execute_result"
    }
   ],
   "source": [
    "crashes_roads[crashes_roads.LABEL.isin(safetyindex_df.LABEL.unique())].shape"
   ]
  },
  {
   "cell_type": "code",
   "execution_count": 27,
   "metadata": {},
   "outputs": [
    {
     "data": {
      "text/plain": [
       "16108"
      ]
     },
     "execution_count": 27,
     "metadata": {},
     "output_type": "execute_result"
    }
   ],
   "source": [
    "len(crashes_ramps)"
   ]
  },
  {
   "cell_type": "code",
   "execution_count": 28,
   "metadata": {},
   "outputs": [
    {
     "data": {
      "text/plain": [
       "0.8257246700125652"
      ]
     },
     "execution_count": 28,
     "metadata": {},
     "output_type": "execute_result"
    }
   ],
   "source": [
    "342376/414637          # data points ignoring ramps, have all data"
   ]
  },
  {
   "cell_type": "code",
   "execution_count": 29,
   "metadata": {},
   "outputs": [
    {
     "data": {
      "text/plain": [
       "0.8645731085262531"
      ]
     },
     "execution_count": 29,
     "metadata": {},
     "output_type": "execute_result"
    }
   ],
   "source": [
    "(342376+16108)/414637  # data points including ramps, missing ramp specific data from safety index layer, can use road data"
   ]
  },
  {
   "cell_type": "code",
   "execution_count": 30,
   "metadata": {},
   "outputs": [
    {
     "data": {
      "text/plain": [
       "0.8984340519538777"
      ]
     },
     "execution_count": 30,
     "metadata": {},
     "output_type": "execute_result"
    }
   ],
   "source": [
    "372524/414637          # data points if using LRS layer, calculated in another notebook - missing safety index data"
   ]
  },
  {
   "cell_type": "markdown",
   "metadata": {},
   "source": [
    "We'll not be able to use approx 3% of the crash data if we use safety index layer instead of LRS layer. However, LRS layer is missing the data we want to use (AADT, safety rating, crashes per mile, etc). Proceeding with Safety Index layer."
   ]
  },
  {
   "cell_type": "code",
   "execution_count": 31,
   "metadata": {},
   "outputs": [],
   "source": [
    "crashes_roads_segments = pd.merge(crashes_roads, safetyindex_df, on='LABEL')"
   ]
  },
  {
   "cell_type": "code",
   "execution_count": 32,
   "metadata": {},
   "outputs": [
    {
     "data": {
      "text/plain": [
       "(15003075, 50)"
      ]
     },
     "execution_count": 32,
     "metadata": {},
     "output_type": "execute_result"
    }
   ],
   "source": [
    "crashes_roads_segments.shape"
   ]
  },
  {
   "cell_type": "code",
   "execution_count": 33,
   "metadata": {},
   "outputs": [],
   "source": [
    "crashes_roads_segments = crashes_roads_segments[crashes_roads_segments.BeginMilePost.between(crashes_roads_segments.BEG_MP, crashes_roads_segments.END_MP)]"
   ]
  },
  {
   "cell_type": "code",
   "execution_count": 34,
   "metadata": {},
   "outputs": [
    {
     "data": {
      "text/plain": [
       "(342748, 50)"
      ]
     },
     "execution_count": 34,
     "metadata": {},
     "output_type": "execute_result"
    }
   ],
   "source": [
    "crashes_roads_segments.shape"
   ]
  },
  {
   "cell_type": "code",
   "execution_count": 35,
   "metadata": {},
   "outputs": [
    {
     "data": {
      "text/html": [
       "<div>\n",
       "<style scoped>\n",
       "    .dataframe tbody tr th:only-of-type {\n",
       "        vertical-align: middle;\n",
       "    }\n",
       "\n",
       "    .dataframe tbody tr th {\n",
       "        vertical-align: top;\n",
       "    }\n",
       "\n",
       "    .dataframe thead th {\n",
       "        text-align: right;\n",
       "    }\n",
       "</style>\n",
       "<table border=\"1\" class=\"dataframe\">\n",
       "  <thead>\n",
       "    <tr style=\"text-align: right;\">\n",
       "      <th></th>\n",
       "      <th>CRASHID</th>\n",
       "      <th>RouteName</th>\n",
       "      <th>BeginMilePost</th>\n",
       "      <th>RoadView</th>\n",
       "      <th>CrashSeverity</th>\n",
       "      <th>MANNERCOLLISIONID</th>\n",
       "      <th>ROADWAYJUNCTFEATUREID</th>\n",
       "      <th>NUMBERVEHICLESINVOLVED</th>\n",
       "      <th>FIRSTHARMFULEVENTID</th>\n",
       "      <th>ROADWAYTYPECD</th>\n",
       "      <th>ROUTEDIRECTION</th>\n",
       "      <th>EXITNUMBER</th>\n",
       "      <th>RAMPID</th>\n",
       "      <th>Latitude</th>\n",
       "      <th>Longitude</th>\n",
       "      <th>db</th>\n",
       "      <th>project</th>\n",
       "      <th>run</th>\n",
       "      <th>lat</th>\n",
       "      <th>lon</th>\n",
       "      <th>dayofyear</th>\n",
       "      <th>year</th>\n",
       "      <th>month</th>\n",
       "      <th>day</th>\n",
       "      <th>hour</th>\n",
       "      <th>dayofweek</th>\n",
       "      <th>incident</th>\n",
       "      <th>LABEL</th>\n",
       "      <th>AVG_AADT</th>\n",
       "      <th>AvE_CRT</th>\n",
       "      <th>AvE_SEV_CR</th>\n",
       "      <th>BEG_MP</th>\n",
       "      <th>CRT</th>\n",
       "      <th>C_MI</th>\n",
       "      <th>DESCRIP</th>\n",
       "      <th>END_MP</th>\n",
       "      <th>EXP_CRT</th>\n",
       "      <th>EXP_SEV_CR</th>\n",
       "      <th>FC_NAME</th>\n",
       "      <th>OBJECTID</th>\n",
       "      <th>PROTECTED</th>\n",
       "      <th>REGION</th>\n",
       "      <th>RouteNm</th>\n",
       "      <th>SAF_INDEX</th>\n",
       "      <th>SEV_CRT</th>\n",
       "      <th>SEV_C_MI</th>\n",
       "      <th>State_FA</th>\n",
       "      <th>TOT_C</th>\n",
       "      <th>TOT_SEV_C</th>\n",
       "      <th>SHAPE</th>\n",
       "    </tr>\n",
       "  </thead>\n",
       "  <tbody>\n",
       "    <tr>\n",
       "      <th>11</th>\n",
       "      <td>10401151</td>\n",
       "      <td>0009P</td>\n",
       "      <td>11.64</td>\n",
       "      <td>http://168.178.125.111/virtualnavigator/udot/V...</td>\n",
       "      <td>2</td>\n",
       "      <td>Front to Rear</td>\n",
       "      <td>No Special Feature/Junction</td>\n",
       "      <td>2</td>\n",
       "      <td>Other Motor Vehicle in Transport</td>\n",
       "      <td>Mainline</td>\n",
       "      <td>P</td>\n",
       "      <td>NaN</td>\n",
       "      <td>NaN</td>\n",
       "      <td>4119389.0</td>\n",
       "      <td>298229.0</td>\n",
       "      <td>2014</td>\n",
       "      <td>0009</td>\n",
       "      <td>P</td>\n",
       "      <td>37.199177</td>\n",
       "      <td>-113.273482</td>\n",
       "      <td>288</td>\n",
       "      <td>2010</td>\n",
       "      <td>10</td>\n",
       "      <td>15</td>\n",
       "      <td>19</td>\n",
       "      <td>4</td>\n",
       "      <td>1</td>\n",
       "      <td>0009P</td>\n",
       "      <td>11829.619048</td>\n",
       "      <td>0.287125</td>\n",
       "      <td>0.000000</td>\n",
       "      <td>10.883</td>\n",
       "      <td>0.786722</td>\n",
       "      <td>3.397028</td>\n",
       "      <td>860 N (Enchanted Way) via State St - 300 S La ...</td>\n",
       "      <td>12.458</td>\n",
       "      <td>2.74</td>\n",
       "      <td>6.8</td>\n",
       "      <td>Urban Principal Arterial</td>\n",
       "      <td>2045</td>\n",
       "      <td>23 USC 409</td>\n",
       "      <td>4</td>\n",
       "      <td>SR-9</td>\n",
       "      <td>2.0</td>\n",
       "      <td>0.000000</td>\n",
       "      <td>0.000000</td>\n",
       "      <td>State</td>\n",
       "      <td>16</td>\n",
       "      <td>0</td>\n",
       "      <td>{'paths': [[[-12610092.850200001, 4465474.1281...</td>\n",
       "    </tr>\n",
       "    <tr>\n",
       "      <th>23</th>\n",
       "      <td>10394697</td>\n",
       "      <td>0009P</td>\n",
       "      <td>11.85</td>\n",
       "      <td>http://168.178.125.111/virtualnavigator/udot/V...</td>\n",
       "      <td>1</td>\n",
       "      <td>Sideswipe Same Direction</td>\n",
       "      <td>No Special Feature/Junction</td>\n",
       "      <td>2</td>\n",
       "      <td>Other Motor Vehicle in Transport</td>\n",
       "      <td>Mainline</td>\n",
       "      <td>P</td>\n",
       "      <td>NaN</td>\n",
       "      <td>NaN</td>\n",
       "      <td>4119704.0</td>\n",
       "      <td>298349.0</td>\n",
       "      <td>2014</td>\n",
       "      <td>0009</td>\n",
       "      <td>P</td>\n",
       "      <td>37.202040</td>\n",
       "      <td>-113.272216</td>\n",
       "      <td>232</td>\n",
       "      <td>2010</td>\n",
       "      <td>8</td>\n",
       "      <td>20</td>\n",
       "      <td>19</td>\n",
       "      <td>4</td>\n",
       "      <td>1</td>\n",
       "      <td>0009P</td>\n",
       "      <td>11829.619048</td>\n",
       "      <td>0.287125</td>\n",
       "      <td>0.000000</td>\n",
       "      <td>10.883</td>\n",
       "      <td>0.786722</td>\n",
       "      <td>3.397028</td>\n",
       "      <td>860 N (Enchanted Way) via State St - 300 S La ...</td>\n",
       "      <td>12.458</td>\n",
       "      <td>2.74</td>\n",
       "      <td>6.8</td>\n",
       "      <td>Urban Principal Arterial</td>\n",
       "      <td>2045</td>\n",
       "      <td>23 USC 409</td>\n",
       "      <td>4</td>\n",
       "      <td>SR-9</td>\n",
       "      <td>2.0</td>\n",
       "      <td>0.000000</td>\n",
       "      <td>0.000000</td>\n",
       "      <td>State</td>\n",
       "      <td>16</td>\n",
       "      <td>0</td>\n",
       "      <td>{'paths': [[[-12610092.850200001, 4465474.1281...</td>\n",
       "    </tr>\n",
       "    <tr>\n",
       "      <th>33</th>\n",
       "      <td>10346333</td>\n",
       "      <td>0009P</td>\n",
       "      <td>14.00</td>\n",
       "      <td>http://168.178.125.111/virtualnavigator/udot/V...</td>\n",
       "      <td>1</td>\n",
       "      <td>Single Vehicle</td>\n",
       "      <td>No Special Feature/Junction</td>\n",
       "      <td>1</td>\n",
       "      <td>Delineator Post</td>\n",
       "      <td>Mainline</td>\n",
       "      <td>P</td>\n",
       "      <td>NaN</td>\n",
       "      <td>NaN</td>\n",
       "      <td>4122320.0</td>\n",
       "      <td>299671.0</td>\n",
       "      <td>2014</td>\n",
       "      <td>0009</td>\n",
       "      <td>P</td>\n",
       "      <td>37.225887</td>\n",
       "      <td>-113.258033</td>\n",
       "      <td>86</td>\n",
       "      <td>2010</td>\n",
       "      <td>3</td>\n",
       "      <td>27</td>\n",
       "      <td>21</td>\n",
       "      <td>5</td>\n",
       "      <td>1</td>\n",
       "      <td>0009P</td>\n",
       "      <td>3031.666667</td>\n",
       "      <td>0.463938</td>\n",
       "      <td>0.000000</td>\n",
       "      <td>13.282</td>\n",
       "      <td>0.626316</td>\n",
       "      <td>0.693132</td>\n",
       "      <td>100 East La Verkin - Mill St Virgin</td>\n",
       "      <td>18.580</td>\n",
       "      <td>1.35</td>\n",
       "      <td>5.1</td>\n",
       "      <td>Rural Principal Arterial</td>\n",
       "      <td>1631</td>\n",
       "      <td>23 USC 409</td>\n",
       "      <td>4</td>\n",
       "      <td>SR-9</td>\n",
       "      <td>1.0</td>\n",
       "      <td>0.000000</td>\n",
       "      <td>0.000000</td>\n",
       "      <td>State</td>\n",
       "      <td>11</td>\n",
       "      <td>0</td>\n",
       "      <td>{'paths': [[[-12608433.0227, 4469426.418499999...</td>\n",
       "    </tr>\n",
       "    <tr>\n",
       "      <th>45</th>\n",
       "      <td>10352753</td>\n",
       "      <td>0009P</td>\n",
       "      <td>14.00</td>\n",
       "      <td>http://168.178.125.111/virtualnavigator/udot/V...</td>\n",
       "      <td>1</td>\n",
       "      <td>Single Vehicle</td>\n",
       "      <td>No Special Feature/Junction</td>\n",
       "      <td>1</td>\n",
       "      <td>Overturn/Rollover</td>\n",
       "      <td>Mainline</td>\n",
       "      <td>P</td>\n",
       "      <td>NaN</td>\n",
       "      <td>NaN</td>\n",
       "      <td>4122320.0</td>\n",
       "      <td>299671.0</td>\n",
       "      <td>2014</td>\n",
       "      <td>0009</td>\n",
       "      <td>P</td>\n",
       "      <td>37.225887</td>\n",
       "      <td>-113.258033</td>\n",
       "      <td>106</td>\n",
       "      <td>2010</td>\n",
       "      <td>4</td>\n",
       "      <td>16</td>\n",
       "      <td>13</td>\n",
       "      <td>4</td>\n",
       "      <td>1</td>\n",
       "      <td>0009P</td>\n",
       "      <td>3031.666667</td>\n",
       "      <td>0.463938</td>\n",
       "      <td>0.000000</td>\n",
       "      <td>13.282</td>\n",
       "      <td>0.626316</td>\n",
       "      <td>0.693132</td>\n",
       "      <td>100 East La Verkin - Mill St Virgin</td>\n",
       "      <td>18.580</td>\n",
       "      <td>1.35</td>\n",
       "      <td>5.1</td>\n",
       "      <td>Rural Principal Arterial</td>\n",
       "      <td>1631</td>\n",
       "      <td>23 USC 409</td>\n",
       "      <td>4</td>\n",
       "      <td>SR-9</td>\n",
       "      <td>1.0</td>\n",
       "      <td>0.000000</td>\n",
       "      <td>0.000000</td>\n",
       "      <td>State</td>\n",
       "      <td>11</td>\n",
       "      <td>0</td>\n",
       "      <td>{'paths': [[[-12608433.0227, 4469426.418499999...</td>\n",
       "    </tr>\n",
       "    <tr>\n",
       "      <th>49</th>\n",
       "      <td>10357506</td>\n",
       "      <td>0009P</td>\n",
       "      <td>21.00</td>\n",
       "      <td>http://168.178.125.111/virtualnavigator/udot/V...</td>\n",
       "      <td>1</td>\n",
       "      <td>Single Vehicle</td>\n",
       "      <td>No Special Feature/Junction</td>\n",
       "      <td>1</td>\n",
       "      <td>Animal - Wild</td>\n",
       "      <td>Mainline</td>\n",
       "      <td>P</td>\n",
       "      <td>NaN</td>\n",
       "      <td>NaN</td>\n",
       "      <td>4118637.0</td>\n",
       "      <td>309403.0</td>\n",
       "      <td>2014</td>\n",
       "      <td>0009</td>\n",
       "      <td>P</td>\n",
       "      <td>37.194752</td>\n",
       "      <td>-113.147468</td>\n",
       "      <td>64</td>\n",
       "      <td>2010</td>\n",
       "      <td>3</td>\n",
       "      <td>5</td>\n",
       "      <td>9</td>\n",
       "      <td>4</td>\n",
       "      <td>1</td>\n",
       "      <td>0009P</td>\n",
       "      <td>1881.666667</td>\n",
       "      <td>1.242143</td>\n",
       "      <td>2.055015</td>\n",
       "      <td>18.580</td>\n",
       "      <td>1.676893</td>\n",
       "      <td>1.151908</td>\n",
       "      <td>Mill Street Virgin - Center St Rockville</td>\n",
       "      <td>27.847</td>\n",
       "      <td>1.35</td>\n",
       "      <td>5.1</td>\n",
       "      <td>Rural Principal Arterial</td>\n",
       "      <td>375</td>\n",
       "      <td>23 USC 409</td>\n",
       "      <td>4</td>\n",
       "      <td>SR-9</td>\n",
       "      <td>5.0</td>\n",
       "      <td>10.480579</td>\n",
       "      <td>0.071994</td>\n",
       "      <td>State</td>\n",
       "      <td>32</td>\n",
       "      <td>2</td>\n",
       "      <td>{'paths': [[[-12600111.84, 4467519.9580999985]...</td>\n",
       "    </tr>\n",
       "  </tbody>\n",
       "</table>\n",
       "</div>"
      ],
      "text/plain": [
       "     CRASHID RouteName  BeginMilePost                                           RoadView  CrashSeverity         MANNERCOLLISIONID        ROADWAYJUNCTFEATUREID  NUMBERVEHICLESINVOLVED               FIRSTHARMFULEVENTID ROADWAYTYPECD ROUTEDIRECTION  EXITNUMBER RAMPID   Latitude  Longitude    db project run        lat         lon  dayofyear  year  month  day  hour  dayofweek  incident  LABEL      AVG_AADT   AvE_CRT  AvE_SEV_CR  BEG_MP       CRT      C_MI                                            DESCRIP  END_MP  EXP_CRT  EXP_SEV_CR                   FC_NAME  OBJECTID   PROTECTED  REGION RouteNm  SAF_INDEX    SEV_CRT  SEV_C_MI State_FA  TOT_C  TOT_SEV_C                                              SHAPE\n",
       "11  10401151     0009P          11.64  http://168.178.125.111/virtualnavigator/udot/V...              2             Front to Rear  No Special Feature/Junction                       2  Other Motor Vehicle in Transport      Mainline              P         NaN    NaN  4119389.0   298229.0  2014    0009   P  37.199177 -113.273482        288  2010     10   15    19          4         1  0009P  11829.619048  0.287125    0.000000  10.883  0.786722  3.397028  860 N (Enchanted Way) via State St - 300 S La ...  12.458     2.74         6.8  Urban Principal Arterial      2045  23 USC 409       4    SR-9        2.0   0.000000  0.000000    State     16          0  {'paths': [[[-12610092.850200001, 4465474.1281...\n",
       "23  10394697     0009P          11.85  http://168.178.125.111/virtualnavigator/udot/V...              1  Sideswipe Same Direction  No Special Feature/Junction                       2  Other Motor Vehicle in Transport      Mainline              P         NaN    NaN  4119704.0   298349.0  2014    0009   P  37.202040 -113.272216        232  2010      8   20    19          4         1  0009P  11829.619048  0.287125    0.000000  10.883  0.786722  3.397028  860 N (Enchanted Way) via State St - 300 S La ...  12.458     2.74         6.8  Urban Principal Arterial      2045  23 USC 409       4    SR-9        2.0   0.000000  0.000000    State     16          0  {'paths': [[[-12610092.850200001, 4465474.1281...\n",
       "33  10346333     0009P          14.00  http://168.178.125.111/virtualnavigator/udot/V...              1            Single Vehicle  No Special Feature/Junction                       1                   Delineator Post      Mainline              P         NaN    NaN  4122320.0   299671.0  2014    0009   P  37.225887 -113.258033         86  2010      3   27    21          5         1  0009P   3031.666667  0.463938    0.000000  13.282  0.626316  0.693132                100 East La Verkin - Mill St Virgin  18.580     1.35         5.1  Rural Principal Arterial      1631  23 USC 409       4    SR-9        1.0   0.000000  0.000000    State     11          0  {'paths': [[[-12608433.0227, 4469426.418499999...\n",
       "45  10352753     0009P          14.00  http://168.178.125.111/virtualnavigator/udot/V...              1            Single Vehicle  No Special Feature/Junction                       1                 Overturn/Rollover      Mainline              P         NaN    NaN  4122320.0   299671.0  2014    0009   P  37.225887 -113.258033        106  2010      4   16    13          4         1  0009P   3031.666667  0.463938    0.000000  13.282  0.626316  0.693132                100 East La Verkin - Mill St Virgin  18.580     1.35         5.1  Rural Principal Arterial      1631  23 USC 409       4    SR-9        1.0   0.000000  0.000000    State     11          0  {'paths': [[[-12608433.0227, 4469426.418499999...\n",
       "49  10357506     0009P          21.00  http://168.178.125.111/virtualnavigator/udot/V...              1            Single Vehicle  No Special Feature/Junction                       1                     Animal - Wild      Mainline              P         NaN    NaN  4118637.0   309403.0  2014    0009   P  37.194752 -113.147468         64  2010      3    5     9          4         1  0009P   1881.666667  1.242143    2.055015  18.580  1.676893  1.151908           Mill Street Virgin - Center St Rockville  27.847     1.35         5.1  Rural Principal Arterial       375  23 USC 409       4    SR-9        5.0  10.480579  0.071994    State     32          2  {'paths': [[[-12600111.84, 4467519.9580999985]..."
      ]
     },
     "execution_count": 35,
     "metadata": {},
     "output_type": "execute_result"
    }
   ],
   "source": [
    "crashes_roads_segments.head()"
   ]
  },
  {
   "cell_type": "code",
   "execution_count": 36,
   "metadata": {},
   "outputs": [],
   "source": [
    "crashes_roads_segments.to_pickle('crashes_roads_segments.pkl')"
   ]
  },
  {
   "cell_type": "code",
   "execution_count": 37,
   "metadata": {},
   "outputs": [],
   "source": [
    "crashes_roads_segments.to_csv('crashes_roads_segments.csv')"
   ]
  },
  {
   "cell_type": "code",
   "execution_count": 9,
   "metadata": {},
   "outputs": [],
   "source": [
    "safetyindex_df.to_csv('safetyindex_roads.csv')"
   ]
  }
 ],
 "metadata": {
  "anaconda-cloud": {},
  "kernelspec": {
   "display_name": "Python 3",
   "language": "python",
   "name": "python3"
  },
  "language_info": {
   "codemirror_mode": {
    "name": "ipython",
    "version": 3
   },
   "file_extension": ".py",
   "mimetype": "text/x-python",
   "name": "python",
   "nbconvert_exporter": "python",
   "pygments_lexer": "ipython3",
   "version": "3.6.4"
  }
 },
 "nbformat": 4,
 "nbformat_minor": 2
}
