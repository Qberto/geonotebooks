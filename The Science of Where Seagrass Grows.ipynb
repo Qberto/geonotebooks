{
 "cells": [
  {
   "cell_type": "code",
   "execution_count": null,
   "metadata": {
    "collapsed": true
   },
   "outputs": [],
   "source": [
    "from arcgis import GIS\n",
    "from arcgis.features import FeatureLayer\n",
    "\n",
    "import pandas as pd\n",
    "import seaborn as sns\n",
    "import matplotlib.pyplot as plt\n",
    "\n",
    "from sklearn import metrics\n",
    "from sklearn.ensemble import RandomForestClassifier\n",
    "from sklearn.model_selection import train_test_split"
   ]
  },
  {
   "cell_type": "code",
   "execution_count": null,
   "metadata": {
    "collapsed": true
   },
   "outputs": [],
   "source": [
    "gis = GIS()"
   ]
  },
  {
   "cell_type": "code",
   "execution_count": null,
   "metadata": {},
   "outputs": [
    {
     "data": {
      "text/html": [
       "<div>\n",
       "<style scoped>\n",
       "    .dataframe tbody tr th:only-of-type {\n",
       "        vertical-align: middle;\n",
       "    }\n",
       "\n",
       "    .dataframe tbody tr th {\n",
       "        vertical-align: top;\n",
       "    }\n",
       "\n",
       "    .dataframe thead th {\n",
       "        text-align: right;\n",
       "    }\n",
       "</style>\n",
       "<table border=\"1\" class=\"dataframe\">\n",
       "  <thead>\n",
       "    <tr style=\"text-align: right;\">\n",
       "      <th></th>\n",
       "      <th>CID</th>\n",
       "      <th>Join_Count</th>\n",
       "      <th>NameEMU</th>\n",
       "      <th>OBJECTID</th>\n",
       "      <th>Present</th>\n",
       "      <th>TARGET_FID</th>\n",
       "      <th>appO2</th>\n",
       "      <th>depth</th>\n",
       "      <th>dissO2</th>\n",
       "      <th>nitrate</th>\n",
       "      <th>percO2</th>\n",
       "      <th>phosphate</th>\n",
       "      <th>salinity</th>\n",
       "      <th>silicate</th>\n",
       "      <th>temp</th>\n",
       "      <th>SHAPE</th>\n",
       "    </tr>\n",
       "  </thead>\n",
       "  <tbody>\n",
       "    <tr>\n",
       "      <th>0</th>\n",
       "      <td>10</td>\n",
       "      <td>1</td>\n",
       "      <td>Epipelagic, Warm to Very Warm, Euhaline, Oxic,...</td>\n",
       "      <td>1</td>\n",
       "      <td>0</td>\n",
       "      <td>1</td>\n",
       "      <td>-0.097869</td>\n",
       "      <td>0</td>\n",
       "      <td>5.038187</td>\n",
       "      <td>0.503541</td>\n",
       "      <td>102.16810</td>\n",
       "      <td>0.070516</td>\n",
       "      <td>35.69495</td>\n",
       "      <td>3.878356</td>\n",
       "      <td>24.75329</td>\n",
       "      <td>{'y': 3070014.173990999, 'spatialReference': {...</td>\n",
       "    </tr>\n",
       "    <tr>\n",
       "      <th>1</th>\n",
       "      <td>10</td>\n",
       "      <td>1</td>\n",
       "      <td>Epipelagic, Warm to Very Warm, Euhaline, Oxic,...</td>\n",
       "      <td>2</td>\n",
       "      <td>0</td>\n",
       "      <td>2</td>\n",
       "      <td>0.051061</td>\n",
       "      <td>0</td>\n",
       "      <td>4.710738</td>\n",
       "      <td>0.836354</td>\n",
       "      <td>99.08915</td>\n",
       "      <td>0.124987</td>\n",
       "      <td>35.98500</td>\n",
       "      <td>1.521608</td>\n",
       "      <td>24.13740</td>\n",
       "      <td>{'y': 3463385.7571735503, 'spatialReference': ...</td>\n",
       "    </tr>\n",
       "  </tbody>\n",
       "</table>\n",
       "</div>"
      ],
      "text/plain": [
       "   CID  Join_Count                                            NameEMU  \\\n",
       "0   10           1  Epipelagic, Warm to Very Warm, Euhaline, Oxic,...   \n",
       "1   10           1  Epipelagic, Warm to Very Warm, Euhaline, Oxic,...   \n",
       "\n",
       "   OBJECTID  Present  TARGET_FID     appO2  depth    dissO2   nitrate  \\\n",
       "0         1        0           1 -0.097869      0  5.038187  0.503541   \n",
       "1         2        0           2  0.051061      0  4.710738  0.836354   \n",
       "\n",
       "      percO2  phosphate  salinity  silicate      temp  \\\n",
       "0  102.16810   0.070516  35.69495  3.878356  24.75329   \n",
       "1   99.08915   0.124987  35.98500  1.521608  24.13740   \n",
       "\n",
       "                                               SHAPE  \n",
       "0  {'y': 3070014.173990999, 'spatialReference': {...  \n",
       "1  {'y': 3463385.7571735503, 'spatialReference': ...  "
      ]
     },
     "execution_count": 3,
     "metadata": {},
     "output_type": "execute_result"
    }
   ],
   "source": [
    "url = 'https://services3.arcgis.com/oZfKvdlWHN1MwS48/arcgis/rest/services/MachineLearningSeagrass/FeatureServer/1'\n",
    "df = FeatureLayer(url).query().df\n",
    "df.head(2)"
   ]
  },
  {
   "cell_type": "code",
   "execution_count": null,
   "metadata": {},
   "outputs": [
    {
     "data": {
      "text/plain": [
       "(100000, 16)"
      ]
     },
     "execution_count": 4,
     "metadata": {},
     "output_type": "execute_result"
    }
   ],
   "source": [
    "df.shape"
   ]
  },
  {
   "cell_type": "code",
   "execution_count": null,
   "metadata": {},
   "outputs": [
    {
     "data": {
      "text/html": [
       "<div>\n",
       "<style scoped>\n",
       "    .dataframe tbody tr th:only-of-type {\n",
       "        vertical-align: middle;\n",
       "    }\n",
       "\n",
       "    .dataframe tbody tr th {\n",
       "        vertical-align: top;\n",
       "    }\n",
       "\n",
       "    .dataframe thead th {\n",
       "        text-align: right;\n",
       "    }\n",
       "</style>\n",
       "<table border=\"1\" class=\"dataframe\">\n",
       "  <thead>\n",
       "    <tr style=\"text-align: right;\">\n",
       "      <th></th>\n",
       "      <th>salinity</th>\n",
       "      <th>temp</th>\n",
       "      <th>phosphate</th>\n",
       "      <th>nitrate</th>\n",
       "      <th>silicate</th>\n",
       "      <th>dissO2</th>\n",
       "    </tr>\n",
       "  </thead>\n",
       "  <tbody>\n",
       "    <tr>\n",
       "      <th>0</th>\n",
       "      <td>35.69495</td>\n",
       "      <td>24.75329</td>\n",
       "      <td>0.070516</td>\n",
       "      <td>0.503541</td>\n",
       "      <td>3.878356</td>\n",
       "      <td>5.038187</td>\n",
       "    </tr>\n",
       "    <tr>\n",
       "      <th>1</th>\n",
       "      <td>35.98500</td>\n",
       "      <td>24.13740</td>\n",
       "      <td>0.124987</td>\n",
       "      <td>0.836354</td>\n",
       "      <td>1.521608</td>\n",
       "      <td>4.710738</td>\n",
       "    </tr>\n",
       "    <tr>\n",
       "      <th>2</th>\n",
       "      <td>35.58104</td>\n",
       "      <td>18.00565</td>\n",
       "      <td>1.032444</td>\n",
       "      <td>15.172270</td>\n",
       "      <td>10.742860</td>\n",
       "      <td>3.839985</td>\n",
       "    </tr>\n",
       "    <tr>\n",
       "      <th>3</th>\n",
       "      <td>35.46936</td>\n",
       "      <td>14.55408</td>\n",
       "      <td>0.936634</td>\n",
       "      <td>14.109170</td>\n",
       "      <td>9.925514</td>\n",
       "      <td>3.654587</td>\n",
       "    </tr>\n",
       "    <tr>\n",
       "      <th>4</th>\n",
       "      <td>35.41380</td>\n",
       "      <td>13.48950</td>\n",
       "      <td>0.980522</td>\n",
       "      <td>14.746720</td>\n",
       "      <td>10.737210</td>\n",
       "      <td>3.721700</td>\n",
       "    </tr>\n",
       "  </tbody>\n",
       "</table>\n",
       "</div>"
      ],
      "text/plain": [
       "   salinity      temp  phosphate    nitrate   silicate    dissO2\n",
       "0  35.69495  24.75329   0.070516   0.503541   3.878356  5.038187\n",
       "1  35.98500  24.13740   0.124987   0.836354   1.521608  4.710738\n",
       "2  35.58104  18.00565   1.032444  15.172270  10.742860  3.839985\n",
       "3  35.46936  14.55408   0.936634  14.109170   9.925514  3.654587\n",
       "4  35.41380  13.48950   0.980522  14.746720  10.737210  3.721700"
      ]
     },
     "execution_count": 5,
     "metadata": {},
     "output_type": "execute_result"
    }
   ],
   "source": [
    "data = df[['salinity', 'temp', 'phosphate','nitrate', 'silicate', 'dissO2']]\n",
    "data.head()"
   ]
  },
  {
   "cell_type": "code",
   "execution_count": null,
   "metadata": {},
   "outputs": [
    {
     "data": {
      "image/png": "[encoded data removed]",
      "text/plain": [
       "<matplotlib.figure.Figure at 0x2917ab49c88>"
      ]
     },
     "metadata": {},
     "output_type": "display_data"
    }
   ],
   "source": [
    "sns.heatmap(data.corr(), cmap=sns.diverging_palette(220, 10, as_cmap=True),\n",
    "            square=True, annot = True, linecolor = 'k', linewidths = 1)\n",
    "plt.show()"
   ]
  },
  {
   "cell_type": "code",
   "execution_count": null,
   "metadata": {
    "collapsed": true
   },
   "outputs": [],
   "source": [
    "categories = pd.get_dummies(df['NameEMU'])\n",
    "categories.columns = ['c1', 'c2', 'c3']"
   ]
  },
  {
   "cell_type": "code",
   "execution_count": null,
   "metadata": {
    "collapsed": true
   },
   "outputs": [],
   "source": [
    "X = data.join(categories)\n",
    "y = df['Present']"
   ]
  },
  {
   "cell_type": "code",
   "execution_count": null,
   "metadata": {
    "collapsed": true
   },
   "outputs": [],
   "source": [
    "X_train, X_test, y_train, y_test = train_test_split(X, y, test_size=0.3)"
   ]
  },
  {
   "cell_type": "code",
   "execution_count": null,
   "metadata": {
    "collapsed": true
   },
   "outputs": [],
   "source": [
    "rfco = RandomForestClassifier(n_estimators=500, oob_score=True)"
   ]
  },
  {
   "cell_type": "code",
   "execution_count": null,
   "metadata": {},
   "outputs": [
    {
     "data": {
      "text/plain": [
       "RandomForestClassifier(bootstrap=True, class_weight=None, criterion='gini',\n",
       "            max_depth=None, max_features='auto', max_leaf_nodes=None,\n",
       "            min_impurity_decrease=0.0, min_impurity_split=None,\n",
       "            min_samples_leaf=1, min_samples_split=2,\n",
       "            min_weight_fraction_leaf=0.0, n_estimators=500, n_jobs=1,\n",
       "            oob_score=True, random_state=None, verbose=0, warm_start=False)"
      ]
     },
     "execution_count": 11,
     "metadata": {},
     "output_type": "execute_result"
    }
   ],
   "source": [
    "rfco.fit(X_train, y_train)"
   ]
  },
  {
   "cell_type": "code",
   "execution_count": null,
   "metadata": {},
   "outputs": [
    {
     "data": {
      "image/png": "[encoded data removed]",
      "text/plain": [
       "<matplotlib.figure.Figure at 0x291744eb048>"
      ]
     },
     "metadata": {},
     "output_type": "display_data"
    }
   ],
   "source": [
    "import numpy as np\n",
    "\n",
    "predict_vars = list(X_train.columns)\n",
    "pos = np.arange(len(predict_vars)) + .5\n",
    "# Sort Variables wrt. to Their Importance\n",
    "imp_sorted = np.argsort(rfco.feature_importances_)\n",
    "# New List of Sorted Variable Names\n",
    "sorted_vars = [predict_vars[i] for i in imp_sorted]\n",
    "\n",
    "# Plot Variable Importances\n",
    "plt.barh(pos, rfco.feature_importances_[imp_sorted], align='center')\n",
    "plt.yticks(pos, sorted_vars)\n",
    "plt.xlabel('Relative Importance')\n",
    "plt.title('Variable Importance')\n",
    "plt.show()"
   ]
  },
  {
   "cell_type": "code",
   "execution_count": null,
   "metadata": {},
   "outputs": [
    {
     "name": "stdout",
     "output_type": "stream",
     "text": [
      "Accuracy = 0.9469666666666666\n",
      "Locations with Seagrass = 9345\n",
      "Predicted Locations with Seagrass = 9216\n"
     ]
    }
   ],
   "source": [
    "y_test_pred = rfco.predict(X_test)\n",
    "print('Accuracy = ' + str(metrics.accuracy_score(y_test, y_test_pred)))\n",
    "\n",
    "# Print Accuracy Metrics\n",
    "print('Locations with Seagrass = ' + str(len(np.where(y_test==1)[0])) )\n",
    "print('Predicted Locations with Seagrass = ' + str(len(np.where(y_test_pred==1)[0])))"
   ]
  }
 ],
 "metadata": {
  "anaconda-cloud": {},
  "kernelspec": {
   "display_name": "Python [default]",
   "language": "python",
   "name": "python3"
  },
  "language_info": {
   "codemirror_mode": {
    "name": "ipython",
    "version": 3
   },
   "file_extension": ".py",
   "mimetype": "text/x-python",
   "name": "python",
   "nbconvert_exporter": "python",
   "pygments_lexer": "ipython3",
   "version": "3.5.2"
  }
 },
 "nbformat": 4,
 "nbformat_minor": 2
}
